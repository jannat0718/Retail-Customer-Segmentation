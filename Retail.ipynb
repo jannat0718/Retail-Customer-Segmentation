{
  "cells": [
    {
      "cell_type": "markdown",
      "metadata": {
        "id": "view-in-github",
        "colab_type": "text"
      },
      "source": [
        "<a href=\"https://colab.research.google.com/github/jannat0718/Retail-Customer-Segmentation/blob/main/Retail.ipynb\" target=\"_parent\"><img src=\"https://colab.research.google.com/assets/colab-badge.svg\" alt=\"Open In Colab\"/></a>"
      ]
    },
    {
      "cell_type": "markdown",
      "id": "53957aa1-583c-40cf-9e9d-a4d71df96c46",
      "metadata": {
        "id": "53957aa1-583c-40cf-9e9d-a4d71df96c46"
      },
      "source": [
        "__WEEK1__"
      ]
    },
    {
      "cell_type": "code",
      "execution_count": null,
      "id": "95f8e84c-70ad-4024-b2fb-07e2eb246da2",
      "metadata": {
        "id": "95f8e84c-70ad-4024-b2fb-07e2eb246da2"
      },
      "outputs": [],
      "source": [
        "#import Libraries\n",
        "import pandas as pd \n",
        "import numpy as np\n",
        "from operator import attrgetter\n",
        "import datetime as dt\n",
        "from sklearn.preprocessing import StandardScaler\n",
        "import seaborn as sns\n",
        "import matplotlib.pyplot as plt"
      ]
    },
    {
      "cell_type": "markdown",
      "id": "1310ba2f-1606-4d0f-b847-13cd299c5f31",
      "metadata": {
        "id": "1310ba2f-1606-4d0f-b847-13cd299c5f31"
      },
      "source": [
        "__Load Dataset__"
      ]
    },
    {
      "cell_type": "code",
      "execution_count": null,
      "id": "971663f8-73c6-4f96-9014-25e394ce6976",
      "metadata": {
        "id": "971663f8-73c6-4f96-9014-25e394ce6976",
        "outputId": "eea98be1-a1b2-44bd-81b1-b9756df50bdf"
      },
      "outputs": [
        {
          "data": {
            "text/html": [
              "<div>\n",
              "<style scoped>\n",
              "    .dataframe tbody tr th:only-of-type {\n",
              "        vertical-align: middle;\n",
              "    }\n",
              "\n",
              "    .dataframe tbody tr th {\n",
              "        vertical-align: top;\n",
              "    }\n",
              "\n",
              "    .dataframe thead th {\n",
              "        text-align: right;\n",
              "    }\n",
              "</style>\n",
              "<table border=\"1\" class=\"dataframe\">\n",
              "  <thead>\n",
              "    <tr style=\"text-align: right;\">\n",
              "      <th></th>\n",
              "      <th>InvoiceNo</th>\n",
              "      <th>StockCode</th>\n",
              "      <th>Description</th>\n",
              "      <th>Quantity</th>\n",
              "      <th>InvoiceDate</th>\n",
              "      <th>UnitPrice</th>\n",
              "      <th>CustomerID</th>\n",
              "      <th>Country</th>\n",
              "    </tr>\n",
              "  </thead>\n",
              "  <tbody>\n",
              "    <tr>\n",
              "      <th>0</th>\n",
              "      <td>536365</td>\n",
              "      <td>85123A</td>\n",
              "      <td>WHITE HANGING HEART T-LIGHT HOLDER</td>\n",
              "      <td>6</td>\n",
              "      <td>2010-12-01 08:26:00</td>\n",
              "      <td>2.55</td>\n",
              "      <td>17850.0</td>\n",
              "      <td>United Kingdom</td>\n",
              "    </tr>\n",
              "    <tr>\n",
              "      <th>1</th>\n",
              "      <td>536365</td>\n",
              "      <td>71053</td>\n",
              "      <td>WHITE METAL LANTERN</td>\n",
              "      <td>6</td>\n",
              "      <td>2010-12-01 08:26:00</td>\n",
              "      <td>3.39</td>\n",
              "      <td>17850.0</td>\n",
              "      <td>United Kingdom</td>\n",
              "    </tr>\n",
              "    <tr>\n",
              "      <th>2</th>\n",
              "      <td>536365</td>\n",
              "      <td>84406B</td>\n",
              "      <td>CREAM CUPID HEARTS COAT HANGER</td>\n",
              "      <td>8</td>\n",
              "      <td>2010-12-01 08:26:00</td>\n",
              "      <td>2.75</td>\n",
              "      <td>17850.0</td>\n",
              "      <td>United Kingdom</td>\n",
              "    </tr>\n",
              "    <tr>\n",
              "      <th>3</th>\n",
              "      <td>536365</td>\n",
              "      <td>84029G</td>\n",
              "      <td>KNITTED UNION FLAG HOT WATER BOTTLE</td>\n",
              "      <td>6</td>\n",
              "      <td>2010-12-01 08:26:00</td>\n",
              "      <td>3.39</td>\n",
              "      <td>17850.0</td>\n",
              "      <td>United Kingdom</td>\n",
              "    </tr>\n",
              "    <tr>\n",
              "      <th>4</th>\n",
              "      <td>536365</td>\n",
              "      <td>84029E</td>\n",
              "      <td>RED WOOLLY HOTTIE WHITE HEART.</td>\n",
              "      <td>6</td>\n",
              "      <td>2010-12-01 08:26:00</td>\n",
              "      <td>3.39</td>\n",
              "      <td>17850.0</td>\n",
              "      <td>United Kingdom</td>\n",
              "    </tr>\n",
              "  </tbody>\n",
              "</table>\n",
              "</div>"
            ],
            "text/plain": [
              "  InvoiceNo StockCode                          Description  Quantity  \\\n",
              "0    536365    85123A   WHITE HANGING HEART T-LIGHT HOLDER         6   \n",
              "1    536365     71053                  WHITE METAL LANTERN         6   \n",
              "2    536365    84406B       CREAM CUPID HEARTS COAT HANGER         8   \n",
              "3    536365    84029G  KNITTED UNION FLAG HOT WATER BOTTLE         6   \n",
              "4    536365    84029E       RED WOOLLY HOTTIE WHITE HEART.         6   \n",
              "\n",
              "          InvoiceDate  UnitPrice  CustomerID         Country  \n",
              "0 2010-12-01 08:26:00       2.55     17850.0  United Kingdom  \n",
              "1 2010-12-01 08:26:00       3.39     17850.0  United Kingdom  \n",
              "2 2010-12-01 08:26:00       2.75     17850.0  United Kingdom  \n",
              "3 2010-12-01 08:26:00       3.39     17850.0  United Kingdom  \n",
              "4 2010-12-01 08:26:00       3.39     17850.0  United Kingdom  "
            ]
          },
          "execution_count": 3,
          "metadata": {},
          "output_type": "execute_result"
        }
      ],
      "source": [
        "data = pd.read_excel(\"Online Retail.xlsx\")\n",
        "data.head()"
      ]
    },
    {
      "cell_type": "code",
      "execution_count": null,
      "id": "a87895cb-b75d-4fa2-a15f-e6b3ee43d0da",
      "metadata": {
        "id": "a87895cb-b75d-4fa2-a15f-e6b3ee43d0da",
        "outputId": "32229ae0-674f-4a02-8fce-2613ab6b1c76"
      },
      "outputs": [
        {
          "data": {
            "text/html": [
              "<div>\n",
              "<style scoped>\n",
              "    .dataframe tbody tr th:only-of-type {\n",
              "        vertical-align: middle;\n",
              "    }\n",
              "\n",
              "    .dataframe tbody tr th {\n",
              "        vertical-align: top;\n",
              "    }\n",
              "\n",
              "    .dataframe thead th {\n",
              "        text-align: right;\n",
              "    }\n",
              "</style>\n",
              "<table border=\"1\" class=\"dataframe\">\n",
              "  <thead>\n",
              "    <tr style=\"text-align: right;\">\n",
              "      <th></th>\n",
              "      <th>InvoiceNo</th>\n",
              "      <th>StockCode</th>\n",
              "      <th>Description</th>\n",
              "      <th>Quantity</th>\n",
              "      <th>InvoiceDate</th>\n",
              "      <th>UnitPrice</th>\n",
              "      <th>CustomerID</th>\n",
              "      <th>Country</th>\n",
              "    </tr>\n",
              "  </thead>\n",
              "  <tbody>\n",
              "    <tr>\n",
              "      <th>541904</th>\n",
              "      <td>581587</td>\n",
              "      <td>22613</td>\n",
              "      <td>PACK OF 20 SPACEBOY NAPKINS</td>\n",
              "      <td>12</td>\n",
              "      <td>2011-12-09 12:50:00</td>\n",
              "      <td>0.85</td>\n",
              "      <td>12680.0</td>\n",
              "      <td>France</td>\n",
              "    </tr>\n",
              "    <tr>\n",
              "      <th>541905</th>\n",
              "      <td>581587</td>\n",
              "      <td>22899</td>\n",
              "      <td>CHILDREN'S APRON DOLLY GIRL</td>\n",
              "      <td>6</td>\n",
              "      <td>2011-12-09 12:50:00</td>\n",
              "      <td>2.10</td>\n",
              "      <td>12680.0</td>\n",
              "      <td>France</td>\n",
              "    </tr>\n",
              "    <tr>\n",
              "      <th>541906</th>\n",
              "      <td>581587</td>\n",
              "      <td>23254</td>\n",
              "      <td>CHILDRENS CUTLERY DOLLY GIRL</td>\n",
              "      <td>4</td>\n",
              "      <td>2011-12-09 12:50:00</td>\n",
              "      <td>4.15</td>\n",
              "      <td>12680.0</td>\n",
              "      <td>France</td>\n",
              "    </tr>\n",
              "    <tr>\n",
              "      <th>541907</th>\n",
              "      <td>581587</td>\n",
              "      <td>23255</td>\n",
              "      <td>CHILDRENS CUTLERY CIRCUS PARADE</td>\n",
              "      <td>4</td>\n",
              "      <td>2011-12-09 12:50:00</td>\n",
              "      <td>4.15</td>\n",
              "      <td>12680.0</td>\n",
              "      <td>France</td>\n",
              "    </tr>\n",
              "    <tr>\n",
              "      <th>541908</th>\n",
              "      <td>581587</td>\n",
              "      <td>22138</td>\n",
              "      <td>BAKING SET 9 PIECE RETROSPOT</td>\n",
              "      <td>3</td>\n",
              "      <td>2011-12-09 12:50:00</td>\n",
              "      <td>4.95</td>\n",
              "      <td>12680.0</td>\n",
              "      <td>France</td>\n",
              "    </tr>\n",
              "  </tbody>\n",
              "</table>\n",
              "</div>"
            ],
            "text/plain": [
              "       InvoiceNo StockCode                      Description  Quantity  \\\n",
              "541904    581587     22613      PACK OF 20 SPACEBOY NAPKINS        12   \n",
              "541905    581587     22899     CHILDREN'S APRON DOLLY GIRL          6   \n",
              "541906    581587     23254    CHILDRENS CUTLERY DOLLY GIRL          4   \n",
              "541907    581587     23255  CHILDRENS CUTLERY CIRCUS PARADE         4   \n",
              "541908    581587     22138    BAKING SET 9 PIECE RETROSPOT          3   \n",
              "\n",
              "               InvoiceDate  UnitPrice  CustomerID Country  \n",
              "541904 2011-12-09 12:50:00       0.85     12680.0  France  \n",
              "541905 2011-12-09 12:50:00       2.10     12680.0  France  \n",
              "541906 2011-12-09 12:50:00       4.15     12680.0  France  \n",
              "541907 2011-12-09 12:50:00       4.15     12680.0  France  \n",
              "541908 2011-12-09 12:50:00       4.95     12680.0  France  "
            ]
          },
          "execution_count": 4,
          "metadata": {},
          "output_type": "execute_result"
        }
      ],
      "source": [
        "data.tail()"
      ]
    },
    {
      "cell_type": "code",
      "execution_count": null,
      "id": "7a4573ad-6cb9-4323-b155-a8633b7f7327",
      "metadata": {
        "id": "7a4573ad-6cb9-4323-b155-a8633b7f7327",
        "outputId": "28785a9e-4675-4862-b8d3-2df0bb0cb49b"
      },
      "outputs": [
        {
          "name": "stdout",
          "output_type": "stream",
          "text": [
            "<class 'pandas.core.frame.DataFrame'>\n",
            "RangeIndex: 541909 entries, 0 to 541908\n",
            "Data columns (total 8 columns):\n",
            " #   Column       Non-Null Count   Dtype         \n",
            "---  ------       --------------   -----         \n",
            " 0   InvoiceNo    541909 non-null  object        \n",
            " 1   StockCode    541909 non-null  object        \n",
            " 2   Description  540455 non-null  object        \n",
            " 3   Quantity     541909 non-null  int64         \n",
            " 4   InvoiceDate  541909 non-null  datetime64[ns]\n",
            " 5   UnitPrice    541909 non-null  float64       \n",
            " 6   CustomerID   406829 non-null  float64       \n",
            " 7   Country      541909 non-null  object        \n",
            "dtypes: datetime64[ns](1), float64(2), int64(1), object(4)\n",
            "memory usage: 33.1+ MB\n"
          ]
        }
      ],
      "source": [
        "data.info()"
      ]
    },
    {
      "cell_type": "markdown",
      "id": "b7c50c8b-5137-4141-88dc-c7e497972b76",
      "metadata": {
        "id": "b7c50c8b-5137-4141-88dc-c7e497972b76"
      },
      "source": [
        "__Data Cleaning__"
      ]
    },
    {
      "cell_type": "markdown",
      "id": "1472600e-2910-4da0-b6e9-7e202f7f92ee",
      "metadata": {
        "id": "1472600e-2910-4da0-b6e9-7e202f7f92ee"
      },
      "source": [
        "__#Check For missing Data and formulate an apt strategy to treat them.__"
      ]
    },
    {
      "cell_type": "code",
      "execution_count": null,
      "id": "d4e02457-b6e8-4d8c-8a0e-80e85a89d41a",
      "metadata": {
        "id": "d4e02457-b6e8-4d8c-8a0e-80e85a89d41a",
        "outputId": "885267f8-f1aa-4946-effb-03b07d1167fe"
      },
      "outputs": [
        {
          "data": {
            "text/plain": [
              "InvoiceNo           0\n",
              "StockCode           0\n",
              "Description      1454\n",
              "Quantity            0\n",
              "InvoiceDate         0\n",
              "UnitPrice           0\n",
              "CustomerID     135080\n",
              "Country             0\n",
              "dtype: int64"
            ]
          },
          "execution_count": 6,
          "metadata": {},
          "output_type": "execute_result"
        }
      ],
      "source": [
        "data.isnull().sum()"
      ]
    },
    {
      "cell_type": "code",
      "execution_count": null,
      "id": "431dfb69-fe53-4db4-9f8c-81fba754a3c8",
      "metadata": {
        "id": "431dfb69-fe53-4db4-9f8c-81fba754a3c8"
      },
      "outputs": [],
      "source": [
        "data.dropna(subset=['CustomerID'], inplace=True)"
      ]
    },
    {
      "cell_type": "code",
      "execution_count": null,
      "id": "fe9de57a-1f55-4704-bddc-8edbc1dd33ba",
      "metadata": {
        "id": "fe9de57a-1f55-4704-bddc-8edbc1dd33ba",
        "outputId": "db5d2991-7ce0-4b24-9456-e79f0ca285f9"
      },
      "outputs": [
        {
          "data": {
            "text/plain": [
              "InvoiceNo      0\n",
              "StockCode      0\n",
              "Description    0\n",
              "Quantity       0\n",
              "InvoiceDate    0\n",
              "UnitPrice      0\n",
              "CustomerID     0\n",
              "Country        0\n",
              "dtype: int64"
            ]
          },
          "execution_count": 8,
          "metadata": {},
          "output_type": "execute_result"
        }
      ],
      "source": [
        "data.isnull().sum()"
      ]
    },
    {
      "cell_type": "markdown",
      "id": "565902d8-736c-4239-936c-74d98a701ccc",
      "metadata": {
        "id": "565902d8-736c-4239-936c-74d98a701ccc"
      },
      "source": [
        "__#Remove duplicate data records.__"
      ]
    },
    {
      "cell_type": "code",
      "execution_count": null,
      "id": "c05d95e6-fc37-4741-b8de-5a0942e7c2af",
      "metadata": {
        "id": "c05d95e6-fc37-4741-b8de-5a0942e7c2af",
        "outputId": "f9a7a27a-9b6e-4f48-c649-61b7b00aac98"
      },
      "outputs": [
        {
          "data": {
            "text/plain": [
              "5225"
            ]
          },
          "execution_count": 9,
          "metadata": {},
          "output_type": "execute_result"
        }
      ],
      "source": [
        "data.duplicated().sum()"
      ]
    },
    {
      "cell_type": "code",
      "execution_count": null,
      "id": "89081ca1-35e4-43c5-be0b-15d4bd1503c6",
      "metadata": {
        "id": "89081ca1-35e4-43c5-be0b-15d4bd1503c6"
      },
      "outputs": [],
      "source": [
        "data=data.drop_duplicates()"
      ]
    },
    {
      "cell_type": "code",
      "execution_count": null,
      "id": "62d1e589-b4b7-4500-9ebd-3925f64d0387",
      "metadata": {
        "id": "62d1e589-b4b7-4500-9ebd-3925f64d0387",
        "outputId": "95b94db2-d07f-4243-91c6-8a51fa9d1db4"
      },
      "outputs": [
        {
          "data": {
            "text/plain": [
              "0"
            ]
          },
          "execution_count": 11,
          "metadata": {},
          "output_type": "execute_result"
        }
      ],
      "source": [
        "data.duplicated().sum()"
      ]
    },
    {
      "cell_type": "markdown",
      "id": "802ff9d5-dde7-484a-af20-ada6172363b3",
      "metadata": {
        "id": "802ff9d5-dde7-484a-af20-ada6172363b3"
      },
      "source": [
        "__#Perform descriptive analytics on the given data.__"
      ]
    },
    {
      "cell_type": "markdown",
      "id": "ab860da1-661d-4dd0-a6c2-8e3f42a92cb2",
      "metadata": {
        "id": "ab860da1-661d-4dd0-a6c2-8e3f42a92cb2"
      },
      "source": [
        "__Total Customers__"
      ]
    },
    {
      "cell_type": "code",
      "execution_count": null,
      "id": "4b89ad37-ce59-45c6-a1a6-df068bef0c50",
      "metadata": {
        "id": "4b89ad37-ce59-45c6-a1a6-df068bef0c50",
        "outputId": "395849f1-ff75-4835-e3dd-9d145fc45170"
      },
      "outputs": [
        {
          "data": {
            "text/plain": [
              "4372"
            ]
          },
          "execution_count": 12,
          "metadata": {},
          "output_type": "execute_result"
        }
      ],
      "source": [
        "len(data['CustomerID'].unique())"
      ]
    },
    {
      "cell_type": "markdown",
      "id": "a6ab81a6-768e-4aac-96c0-6fd9e52f80e8",
      "metadata": {
        "id": "a6ab81a6-768e-4aac-96c0-6fd9e52f80e8"
      },
      "source": [
        "__Country List__"
      ]
    },
    {
      "cell_type": "code",
      "execution_count": null,
      "id": "ad255bb9-9a63-4e26-a058-7cd75dad3f9b",
      "metadata": {
        "id": "ad255bb9-9a63-4e26-a058-7cd75dad3f9b",
        "outputId": "718820dd-824b-4599-dbd1-470da9d201ca"
      },
      "outputs": [
        {
          "data": {
            "text/html": [
              "<div>\n",
              "<style scoped>\n",
              "    .dataframe tbody tr th:only-of-type {\n",
              "        vertical-align: middle;\n",
              "    }\n",
              "\n",
              "    .dataframe tbody tr th {\n",
              "        vertical-align: top;\n",
              "    }\n",
              "\n",
              "    .dataframe thead th {\n",
              "        text-align: right;\n",
              "    }\n",
              "</style>\n",
              "<table border=\"1\" class=\"dataframe\">\n",
              "  <thead>\n",
              "    <tr style=\"text-align: right;\">\n",
              "      <th></th>\n",
              "      <th>0</th>\n",
              "    </tr>\n",
              "  </thead>\n",
              "  <tbody>\n",
              "    <tr>\n",
              "      <th>0</th>\n",
              "      <td>United Kingdom</td>\n",
              "    </tr>\n",
              "    <tr>\n",
              "      <th>1</th>\n",
              "      <td>France</td>\n",
              "    </tr>\n",
              "    <tr>\n",
              "      <th>2</th>\n",
              "      <td>Australia</td>\n",
              "    </tr>\n",
              "    <tr>\n",
              "      <th>3</th>\n",
              "      <td>Netherlands</td>\n",
              "    </tr>\n",
              "    <tr>\n",
              "      <th>4</th>\n",
              "      <td>Germany</td>\n",
              "    </tr>\n",
              "    <tr>\n",
              "      <th>5</th>\n",
              "      <td>Norway</td>\n",
              "    </tr>\n",
              "    <tr>\n",
              "      <th>6</th>\n",
              "      <td>EIRE</td>\n",
              "    </tr>\n",
              "    <tr>\n",
              "      <th>7</th>\n",
              "      <td>Switzerland</td>\n",
              "    </tr>\n",
              "    <tr>\n",
              "      <th>8</th>\n",
              "      <td>Spain</td>\n",
              "    </tr>\n",
              "    <tr>\n",
              "      <th>9</th>\n",
              "      <td>Poland</td>\n",
              "    </tr>\n",
              "    <tr>\n",
              "      <th>10</th>\n",
              "      <td>Portugal</td>\n",
              "    </tr>\n",
              "    <tr>\n",
              "      <th>11</th>\n",
              "      <td>Italy</td>\n",
              "    </tr>\n",
              "    <tr>\n",
              "      <th>12</th>\n",
              "      <td>Belgium</td>\n",
              "    </tr>\n",
              "    <tr>\n",
              "      <th>13</th>\n",
              "      <td>Lithuania</td>\n",
              "    </tr>\n",
              "    <tr>\n",
              "      <th>14</th>\n",
              "      <td>Japan</td>\n",
              "    </tr>\n",
              "    <tr>\n",
              "      <th>15</th>\n",
              "      <td>Iceland</td>\n",
              "    </tr>\n",
              "    <tr>\n",
              "      <th>16</th>\n",
              "      <td>Channel Islands</td>\n",
              "    </tr>\n",
              "    <tr>\n",
              "      <th>17</th>\n",
              "      <td>Denmark</td>\n",
              "    </tr>\n",
              "    <tr>\n",
              "      <th>18</th>\n",
              "      <td>Cyprus</td>\n",
              "    </tr>\n",
              "    <tr>\n",
              "      <th>19</th>\n",
              "      <td>Sweden</td>\n",
              "    </tr>\n",
              "    <tr>\n",
              "      <th>20</th>\n",
              "      <td>Austria</td>\n",
              "    </tr>\n",
              "    <tr>\n",
              "      <th>21</th>\n",
              "      <td>Israel</td>\n",
              "    </tr>\n",
              "    <tr>\n",
              "      <th>22</th>\n",
              "      <td>Finland</td>\n",
              "    </tr>\n",
              "    <tr>\n",
              "      <th>23</th>\n",
              "      <td>Greece</td>\n",
              "    </tr>\n",
              "    <tr>\n",
              "      <th>24</th>\n",
              "      <td>Singapore</td>\n",
              "    </tr>\n",
              "    <tr>\n",
              "      <th>25</th>\n",
              "      <td>Lebanon</td>\n",
              "    </tr>\n",
              "    <tr>\n",
              "      <th>26</th>\n",
              "      <td>United Arab Emirates</td>\n",
              "    </tr>\n",
              "    <tr>\n",
              "      <th>27</th>\n",
              "      <td>Saudi Arabia</td>\n",
              "    </tr>\n",
              "    <tr>\n",
              "      <th>28</th>\n",
              "      <td>Czech Republic</td>\n",
              "    </tr>\n",
              "    <tr>\n",
              "      <th>29</th>\n",
              "      <td>Canada</td>\n",
              "    </tr>\n",
              "    <tr>\n",
              "      <th>30</th>\n",
              "      <td>Unspecified</td>\n",
              "    </tr>\n",
              "    <tr>\n",
              "      <th>31</th>\n",
              "      <td>Brazil</td>\n",
              "    </tr>\n",
              "    <tr>\n",
              "      <th>32</th>\n",
              "      <td>USA</td>\n",
              "    </tr>\n",
              "    <tr>\n",
              "      <th>33</th>\n",
              "      <td>European Community</td>\n",
              "    </tr>\n",
              "    <tr>\n",
              "      <th>34</th>\n",
              "      <td>Bahrain</td>\n",
              "    </tr>\n",
              "    <tr>\n",
              "      <th>35</th>\n",
              "      <td>Malta</td>\n",
              "    </tr>\n",
              "    <tr>\n",
              "      <th>36</th>\n",
              "      <td>RSA</td>\n",
              "    </tr>\n",
              "  </tbody>\n",
              "</table>\n",
              "</div>"
            ],
            "text/plain": [
              "                       0\n",
              "0         United Kingdom\n",
              "1                 France\n",
              "2              Australia\n",
              "3            Netherlands\n",
              "4                Germany\n",
              "5                 Norway\n",
              "6                   EIRE\n",
              "7            Switzerland\n",
              "8                  Spain\n",
              "9                 Poland\n",
              "10              Portugal\n",
              "11                 Italy\n",
              "12               Belgium\n",
              "13             Lithuania\n",
              "14                 Japan\n",
              "15               Iceland\n",
              "16       Channel Islands\n",
              "17               Denmark\n",
              "18                Cyprus\n",
              "19                Sweden\n",
              "20               Austria\n",
              "21                Israel\n",
              "22               Finland\n",
              "23                Greece\n",
              "24             Singapore\n",
              "25               Lebanon\n",
              "26  United Arab Emirates\n",
              "27          Saudi Arabia\n",
              "28        Czech Republic\n",
              "29                Canada\n",
              "30           Unspecified\n",
              "31                Brazil\n",
              "32                   USA\n",
              "33    European Community\n",
              "34               Bahrain\n",
              "35                 Malta\n",
              "36                   RSA"
            ]
          },
          "execution_count": 13,
          "metadata": {},
          "output_type": "execute_result"
        }
      ],
      "source": [
        "pd.DataFrame(data['Country'].unique())"
      ]
    },
    {
      "cell_type": "markdown",
      "id": "2e41e792-f0a6-4d3a-b273-620921adc524",
      "metadata": {
        "id": "2e41e792-f0a6-4d3a-b273-620921adc524"
      },
      "source": [
        "__Countrywise Customer__"
      ]
    },
    {
      "cell_type": "code",
      "execution_count": null,
      "id": "1e25a85e-519c-4b62-ab3f-b54fd489b94e",
      "metadata": {
        "id": "1e25a85e-519c-4b62-ab3f-b54fd489b94e",
        "outputId": "d6264c2e-1a7d-4b84-f95c-65a49e7e6b74"
      },
      "outputs": [
        {
          "data": {
            "text/html": [
              "<div>\n",
              "<style scoped>\n",
              "    .dataframe tbody tr th:only-of-type {\n",
              "        vertical-align: middle;\n",
              "    }\n",
              "\n",
              "    .dataframe tbody tr th {\n",
              "        vertical-align: top;\n",
              "    }\n",
              "\n",
              "    .dataframe thead th {\n",
              "        text-align: right;\n",
              "    }\n",
              "</style>\n",
              "<table border=\"1\" class=\"dataframe\">\n",
              "  <thead>\n",
              "    <tr style=\"text-align: right;\">\n",
              "      <th></th>\n",
              "      <th>CustomerID</th>\n",
              "    </tr>\n",
              "    <tr>\n",
              "      <th>Country</th>\n",
              "      <th></th>\n",
              "    </tr>\n",
              "  </thead>\n",
              "  <tbody>\n",
              "    <tr>\n",
              "      <th>United Kingdom</th>\n",
              "      <td>3950</td>\n",
              "    </tr>\n",
              "    <tr>\n",
              "      <th>Germany</th>\n",
              "      <td>95</td>\n",
              "    </tr>\n",
              "    <tr>\n",
              "      <th>France</th>\n",
              "      <td>87</td>\n",
              "    </tr>\n",
              "    <tr>\n",
              "      <th>Spain</th>\n",
              "      <td>31</td>\n",
              "    </tr>\n",
              "    <tr>\n",
              "      <th>Belgium</th>\n",
              "      <td>25</td>\n",
              "    </tr>\n",
              "    <tr>\n",
              "      <th>Switzerland</th>\n",
              "      <td>21</td>\n",
              "    </tr>\n",
              "    <tr>\n",
              "      <th>Portugal</th>\n",
              "      <td>19</td>\n",
              "    </tr>\n",
              "    <tr>\n",
              "      <th>Italy</th>\n",
              "      <td>15</td>\n",
              "    </tr>\n",
              "    <tr>\n",
              "      <th>Finland</th>\n",
              "      <td>12</td>\n",
              "    </tr>\n",
              "    <tr>\n",
              "      <th>Austria</th>\n",
              "      <td>11</td>\n",
              "    </tr>\n",
              "    <tr>\n",
              "      <th>Norway</th>\n",
              "      <td>10</td>\n",
              "    </tr>\n",
              "    <tr>\n",
              "      <th>Netherlands</th>\n",
              "      <td>9</td>\n",
              "    </tr>\n",
              "    <tr>\n",
              "      <th>Australia</th>\n",
              "      <td>9</td>\n",
              "    </tr>\n",
              "    <tr>\n",
              "      <th>Denmark</th>\n",
              "      <td>9</td>\n",
              "    </tr>\n",
              "    <tr>\n",
              "      <th>Channel Islands</th>\n",
              "      <td>9</td>\n",
              "    </tr>\n",
              "    <tr>\n",
              "      <th>Cyprus</th>\n",
              "      <td>8</td>\n",
              "    </tr>\n",
              "    <tr>\n",
              "      <th>Sweden</th>\n",
              "      <td>8</td>\n",
              "    </tr>\n",
              "    <tr>\n",
              "      <th>Japan</th>\n",
              "      <td>8</td>\n",
              "    </tr>\n",
              "    <tr>\n",
              "      <th>Poland</th>\n",
              "      <td>6</td>\n",
              "    </tr>\n",
              "    <tr>\n",
              "      <th>USA</th>\n",
              "      <td>4</td>\n",
              "    </tr>\n",
              "    <tr>\n",
              "      <th>Canada</th>\n",
              "      <td>4</td>\n",
              "    </tr>\n",
              "    <tr>\n",
              "      <th>Unspecified</th>\n",
              "      <td>4</td>\n",
              "    </tr>\n",
              "    <tr>\n",
              "      <th>Israel</th>\n",
              "      <td>4</td>\n",
              "    </tr>\n",
              "    <tr>\n",
              "      <th>Greece</th>\n",
              "      <td>4</td>\n",
              "    </tr>\n",
              "    <tr>\n",
              "      <th>EIRE</th>\n",
              "      <td>3</td>\n",
              "    </tr>\n",
              "    <tr>\n",
              "      <th>Malta</th>\n",
              "      <td>2</td>\n",
              "    </tr>\n",
              "    <tr>\n",
              "      <th>United Arab Emirates</th>\n",
              "      <td>2</td>\n",
              "    </tr>\n",
              "    <tr>\n",
              "      <th>Bahrain</th>\n",
              "      <td>2</td>\n",
              "    </tr>\n",
              "    <tr>\n",
              "      <th>Czech Republic</th>\n",
              "      <td>1</td>\n",
              "    </tr>\n",
              "    <tr>\n",
              "      <th>Lithuania</th>\n",
              "      <td>1</td>\n",
              "    </tr>\n",
              "    <tr>\n",
              "      <th>Lebanon</th>\n",
              "      <td>1</td>\n",
              "    </tr>\n",
              "    <tr>\n",
              "      <th>RSA</th>\n",
              "      <td>1</td>\n",
              "    </tr>\n",
              "    <tr>\n",
              "      <th>Saudi Arabia</th>\n",
              "      <td>1</td>\n",
              "    </tr>\n",
              "    <tr>\n",
              "      <th>Singapore</th>\n",
              "      <td>1</td>\n",
              "    </tr>\n",
              "    <tr>\n",
              "      <th>Iceland</th>\n",
              "      <td>1</td>\n",
              "    </tr>\n",
              "    <tr>\n",
              "      <th>Brazil</th>\n",
              "      <td>1</td>\n",
              "    </tr>\n",
              "    <tr>\n",
              "      <th>European Community</th>\n",
              "      <td>1</td>\n",
              "    </tr>\n",
              "  </tbody>\n",
              "</table>\n",
              "</div>"
            ],
            "text/plain": [
              "                      CustomerID\n",
              "Country                         \n",
              "United Kingdom              3950\n",
              "Germany                       95\n",
              "France                        87\n",
              "Spain                         31\n",
              "Belgium                       25\n",
              "Switzerland                   21\n",
              "Portugal                      19\n",
              "Italy                         15\n",
              "Finland                       12\n",
              "Austria                       11\n",
              "Norway                        10\n",
              "Netherlands                    9\n",
              "Australia                      9\n",
              "Denmark                        9\n",
              "Channel Islands                9\n",
              "Cyprus                         8\n",
              "Sweden                         8\n",
              "Japan                          8\n",
              "Poland                         6\n",
              "USA                            4\n",
              "Canada                         4\n",
              "Unspecified                    4\n",
              "Israel                         4\n",
              "Greece                         4\n",
              "EIRE                           3\n",
              "Malta                          2\n",
              "United Arab Emirates           2\n",
              "Bahrain                        2\n",
              "Czech Republic                 1\n",
              "Lithuania                      1\n",
              "Lebanon                        1\n",
              "RSA                            1\n",
              "Saudi Arabia                   1\n",
              "Singapore                      1\n",
              "Iceland                        1\n",
              "Brazil                         1\n",
              "European Community             1"
            ]
          },
          "execution_count": 14,
          "metadata": {},
          "output_type": "execute_result"
        }
      ],
      "source": [
        "c=pd.DataFrame(data.groupby('Country')['CustomerID'].nunique())\n",
        "customercoutrywise=pd.DataFrame(c).sort_values(by='CustomerID', ascending=False)\n",
        "customercoutrywise"
      ]
    },
    {
      "cell_type": "markdown",
      "id": "44db9008-d625-4206-9f0f-258c38c4f146",
      "metadata": {
        "id": "44db9008-d625-4206-9f0f-258c38c4f146"
      },
      "source": [
        "__Percentage of Cusomer order more than one item__"
      ]
    },
    {
      "cell_type": "code",
      "execution_count": null,
      "id": "9d1f0cc9-2589-404e-89dc-3849f20ed124",
      "metadata": {
        "id": "9d1f0cc9-2589-404e-89dc-3849f20ed124",
        "outputId": "f6abae0f-dfe0-4b8b-e5f5-147f60968cd7"
      },
      "outputs": [
        {
          "name": "stdout",
          "output_type": "stream",
          "text": [
            "69.97% of customers ordered more than one item.\n"
          ]
        }
      ],
      "source": [
        "n_orders = data.groupby(['CustomerID'])['InvoiceNo'].nunique()\n",
        "mult_orders_perc = np.sum(n_orders > 1) / data['CustomerID'].nunique()\n",
        "print(f'{100 * mult_orders_perc:.2f}% of customers ordered more than one item.')"
      ]
    },
    {
      "cell_type": "markdown",
      "id": "1e287f42-7fc5-441b-8c20-48c273abae8f",
      "metadata": {
        "id": "1e287f42-7fc5-441b-8c20-48c273abae8f"
      },
      "source": [
        "__DATA TRANSFORMATION__"
      ]
    },
    {
      "cell_type": "markdown",
      "id": "0b514e25-9ae2-4fe7-bebf-86db84d8aa3f",
      "metadata": {
        "id": "0b514e25-9ae2-4fe7-bebf-86db84d8aa3f"
      },
      "source": [
        "__Chort Analycis__"
      ]
    },
    {
      "cell_type": "code",
      "execution_count": null,
      "id": "2a4834eb-e10b-4c87-a3ce-0ffb2aa48a6d",
      "metadata": {
        "id": "2a4834eb-e10b-4c87-a3ce-0ffb2aa48a6d"
      },
      "outputs": [],
      "source": [
        "data['order_month'] = data['InvoiceDate'].dt.to_period('M')"
      ]
    },
    {
      "cell_type": "code",
      "execution_count": null,
      "id": "3dec162d-9a85-4c10-9f26-1536387da2be",
      "metadata": {
        "id": "3dec162d-9a85-4c10-9f26-1536387da2be"
      },
      "outputs": [],
      "source": [
        "data['cohort'] = data.groupby('CustomerID')['InvoiceDate'] \\\n",
        "                 .transform('min') \\\n",
        "                 .dt.to_period('M')"
      ]
    },
    {
      "cell_type": "code",
      "execution_count": null,
      "id": "b314140f-02f9-4eb2-8541-ae33a23b6d2e",
      "metadata": {
        "id": "b314140f-02f9-4eb2-8541-ae33a23b6d2e"
      },
      "outputs": [],
      "source": [
        "data_cohort=pd.DataFrame(data.groupby(['cohort', 'order_month']) \\\n",
        "              .agg(n_customers=('CustomerID', 'nunique')) \\\n",
        "              .reset_index(drop=False))"
      ]
    },
    {
      "cell_type": "markdown",
      "id": "14350224-0cbe-415f-864a-d30cc59ab6db",
      "metadata": {
        "id": "14350224-0cbe-415f-864a-d30cc59ab6db"
      },
      "source": [
        "__# Active custommer in each Cohort__"
      ]
    },
    {
      "cell_type": "code",
      "execution_count": null,
      "id": "fcad05d3-117f-4a3b-aea3-bfd0707f7ec8",
      "metadata": {
        "id": "fcad05d3-117f-4a3b-aea3-bfd0707f7ec8",
        "outputId": "4c932cf3-b8e8-4d34-9cc2-7412689bf928"
      },
      "outputs": [
        {
          "data": {
            "text/html": [
              "<div>\n",
              "<style scoped>\n",
              "    .dataframe tbody tr th:only-of-type {\n",
              "        vertical-align: middle;\n",
              "    }\n",
              "\n",
              "    .dataframe tbody tr th {\n",
              "        vertical-align: top;\n",
              "    }\n",
              "\n",
              "    .dataframe thead th {\n",
              "        text-align: right;\n",
              "    }\n",
              "</style>\n",
              "<table border=\"1\" class=\"dataframe\">\n",
              "  <thead>\n",
              "    <tr style=\"text-align: right;\">\n",
              "      <th></th>\n",
              "      <th>cohort</th>\n",
              "      <th>order_month</th>\n",
              "      <th>n_customers</th>\n",
              "      <th>period_number</th>\n",
              "    </tr>\n",
              "  </thead>\n",
              "  <tbody>\n",
              "    <tr>\n",
              "      <th>0</th>\n",
              "      <td>2010-12</td>\n",
              "      <td>2010-12</td>\n",
              "      <td>948</td>\n",
              "      <td>0</td>\n",
              "    </tr>\n",
              "    <tr>\n",
              "      <th>1</th>\n",
              "      <td>2010-12</td>\n",
              "      <td>2011-01</td>\n",
              "      <td>362</td>\n",
              "      <td>1</td>\n",
              "    </tr>\n",
              "    <tr>\n",
              "      <th>2</th>\n",
              "      <td>2010-12</td>\n",
              "      <td>2011-02</td>\n",
              "      <td>317</td>\n",
              "      <td>2</td>\n",
              "    </tr>\n",
              "    <tr>\n",
              "      <th>3</th>\n",
              "      <td>2010-12</td>\n",
              "      <td>2011-03</td>\n",
              "      <td>367</td>\n",
              "      <td>3</td>\n",
              "    </tr>\n",
              "    <tr>\n",
              "      <th>4</th>\n",
              "      <td>2010-12</td>\n",
              "      <td>2011-04</td>\n",
              "      <td>341</td>\n",
              "      <td>4</td>\n",
              "    </tr>\n",
              "    <tr>\n",
              "      <th>...</th>\n",
              "      <td>...</td>\n",
              "      <td>...</td>\n",
              "      <td>...</td>\n",
              "      <td>...</td>\n",
              "    </tr>\n",
              "    <tr>\n",
              "      <th>86</th>\n",
              "      <td>2011-10</td>\n",
              "      <td>2011-11</td>\n",
              "      <td>93</td>\n",
              "      <td>1</td>\n",
              "    </tr>\n",
              "    <tr>\n",
              "      <th>87</th>\n",
              "      <td>2011-10</td>\n",
              "      <td>2011-12</td>\n",
              "      <td>46</td>\n",
              "      <td>2</td>\n",
              "    </tr>\n",
              "    <tr>\n",
              "      <th>88</th>\n",
              "      <td>2011-11</td>\n",
              "      <td>2011-11</td>\n",
              "      <td>321</td>\n",
              "      <td>0</td>\n",
              "    </tr>\n",
              "    <tr>\n",
              "      <th>89</th>\n",
              "      <td>2011-11</td>\n",
              "      <td>2011-12</td>\n",
              "      <td>43</td>\n",
              "      <td>1</td>\n",
              "    </tr>\n",
              "    <tr>\n",
              "      <th>90</th>\n",
              "      <td>2011-12</td>\n",
              "      <td>2011-12</td>\n",
              "      <td>41</td>\n",
              "      <td>0</td>\n",
              "    </tr>\n",
              "  </tbody>\n",
              "</table>\n",
              "<p>91 rows × 4 columns</p>\n",
              "</div>"
            ],
            "text/plain": [
              "     cohort order_month  n_customers  period_number\n",
              "0   2010-12     2010-12          948              0\n",
              "1   2010-12     2011-01          362              1\n",
              "2   2010-12     2011-02          317              2\n",
              "3   2010-12     2011-03          367              3\n",
              "4   2010-12     2011-04          341              4\n",
              "..      ...         ...          ...            ...\n",
              "86  2011-10     2011-11           93              1\n",
              "87  2011-10     2011-12           46              2\n",
              "88  2011-11     2011-11          321              0\n",
              "89  2011-11     2011-12           43              1\n",
              "90  2011-12     2011-12           41              0\n",
              "\n",
              "[91 rows x 4 columns]"
            ]
          },
          "execution_count": 19,
          "metadata": {},
          "output_type": "execute_result"
        }
      ],
      "source": [
        "data_cohort['period_number'] = (data_cohort.order_month - data_cohort.cohort).apply(attrgetter('n'))\n",
        "data_cohort"
      ]
    },
    {
      "cell_type": "code",
      "execution_count": null,
      "id": "dc13ca6d-b22b-4dec-b0b4-fc05738848c1",
      "metadata": {
        "id": "dc13ca6d-b22b-4dec-b0b4-fc05738848c1",
        "outputId": "3a6c8490-7d30-48eb-e543-79f0f123d989"
      },
      "outputs": [
        {
          "data": {
            "text/html": [
              "<div>\n",
              "<style scoped>\n",
              "    .dataframe tbody tr th:only-of-type {\n",
              "        vertical-align: middle;\n",
              "    }\n",
              "\n",
              "    .dataframe tbody tr th {\n",
              "        vertical-align: top;\n",
              "    }\n",
              "\n",
              "    .dataframe thead th {\n",
              "        text-align: right;\n",
              "    }\n",
              "</style>\n",
              "<table border=\"1\" class=\"dataframe\">\n",
              "  <thead>\n",
              "    <tr style=\"text-align: right;\">\n",
              "      <th>period_number</th>\n",
              "      <th>0</th>\n",
              "      <th>1</th>\n",
              "      <th>2</th>\n",
              "      <th>3</th>\n",
              "      <th>4</th>\n",
              "      <th>5</th>\n",
              "      <th>6</th>\n",
              "      <th>7</th>\n",
              "      <th>8</th>\n",
              "      <th>9</th>\n",
              "      <th>10</th>\n",
              "      <th>11</th>\n",
              "      <th>12</th>\n",
              "    </tr>\n",
              "    <tr>\n",
              "      <th>cohort</th>\n",
              "      <th></th>\n",
              "      <th></th>\n",
              "      <th></th>\n",
              "      <th></th>\n",
              "      <th></th>\n",
              "      <th></th>\n",
              "      <th></th>\n",
              "      <th></th>\n",
              "      <th></th>\n",
              "      <th></th>\n",
              "      <th></th>\n",
              "      <th></th>\n",
              "      <th></th>\n",
              "    </tr>\n",
              "  </thead>\n",
              "  <tbody>\n",
              "    <tr>\n",
              "      <th>2010-12</th>\n",
              "      <td>948.0</td>\n",
              "      <td>362.0</td>\n",
              "      <td>317.0</td>\n",
              "      <td>367.0</td>\n",
              "      <td>341.0</td>\n",
              "      <td>376.0</td>\n",
              "      <td>360.0</td>\n",
              "      <td>336.0</td>\n",
              "      <td>336.0</td>\n",
              "      <td>374.0</td>\n",
              "      <td>354.0</td>\n",
              "      <td>474.0</td>\n",
              "      <td>260.0</td>\n",
              "    </tr>\n",
              "    <tr>\n",
              "      <th>2011-01</th>\n",
              "      <td>421.0</td>\n",
              "      <td>101.0</td>\n",
              "      <td>119.0</td>\n",
              "      <td>102.0</td>\n",
              "      <td>138.0</td>\n",
              "      <td>126.0</td>\n",
              "      <td>110.0</td>\n",
              "      <td>108.0</td>\n",
              "      <td>131.0</td>\n",
              "      <td>146.0</td>\n",
              "      <td>155.0</td>\n",
              "      <td>63.0</td>\n",
              "      <td>NaN</td>\n",
              "    </tr>\n",
              "    <tr>\n",
              "      <th>2011-02</th>\n",
              "      <td>380.0</td>\n",
              "      <td>94.0</td>\n",
              "      <td>73.0</td>\n",
              "      <td>106.0</td>\n",
              "      <td>102.0</td>\n",
              "      <td>94.0</td>\n",
              "      <td>97.0</td>\n",
              "      <td>107.0</td>\n",
              "      <td>98.0</td>\n",
              "      <td>119.0</td>\n",
              "      <td>35.0</td>\n",
              "      <td>NaN</td>\n",
              "      <td>NaN</td>\n",
              "    </tr>\n",
              "    <tr>\n",
              "      <th>2011-03</th>\n",
              "      <td>440.0</td>\n",
              "      <td>84.0</td>\n",
              "      <td>112.0</td>\n",
              "      <td>96.0</td>\n",
              "      <td>102.0</td>\n",
              "      <td>78.0</td>\n",
              "      <td>116.0</td>\n",
              "      <td>105.0</td>\n",
              "      <td>127.0</td>\n",
              "      <td>39.0</td>\n",
              "      <td>NaN</td>\n",
              "      <td>NaN</td>\n",
              "      <td>NaN</td>\n",
              "    </tr>\n",
              "    <tr>\n",
              "      <th>2011-04</th>\n",
              "      <td>299.0</td>\n",
              "      <td>68.0</td>\n",
              "      <td>66.0</td>\n",
              "      <td>63.0</td>\n",
              "      <td>62.0</td>\n",
              "      <td>71.0</td>\n",
              "      <td>69.0</td>\n",
              "      <td>78.0</td>\n",
              "      <td>25.0</td>\n",
              "      <td>NaN</td>\n",
              "      <td>NaN</td>\n",
              "      <td>NaN</td>\n",
              "      <td>NaN</td>\n",
              "    </tr>\n",
              "    <tr>\n",
              "      <th>2011-05</th>\n",
              "      <td>279.0</td>\n",
              "      <td>66.0</td>\n",
              "      <td>48.0</td>\n",
              "      <td>48.0</td>\n",
              "      <td>60.0</td>\n",
              "      <td>68.0</td>\n",
              "      <td>74.0</td>\n",
              "      <td>29.0</td>\n",
              "      <td>NaN</td>\n",
              "      <td>NaN</td>\n",
              "      <td>NaN</td>\n",
              "      <td>NaN</td>\n",
              "      <td>NaN</td>\n",
              "    </tr>\n",
              "    <tr>\n",
              "      <th>2011-06</th>\n",
              "      <td>235.0</td>\n",
              "      <td>49.0</td>\n",
              "      <td>44.0</td>\n",
              "      <td>64.0</td>\n",
              "      <td>58.0</td>\n",
              "      <td>79.0</td>\n",
              "      <td>24.0</td>\n",
              "      <td>NaN</td>\n",
              "      <td>NaN</td>\n",
              "      <td>NaN</td>\n",
              "      <td>NaN</td>\n",
              "      <td>NaN</td>\n",
              "      <td>NaN</td>\n",
              "    </tr>\n",
              "    <tr>\n",
              "      <th>2011-07</th>\n",
              "      <td>191.0</td>\n",
              "      <td>40.0</td>\n",
              "      <td>39.0</td>\n",
              "      <td>44.0</td>\n",
              "      <td>52.0</td>\n",
              "      <td>22.0</td>\n",
              "      <td>NaN</td>\n",
              "      <td>NaN</td>\n",
              "      <td>NaN</td>\n",
              "      <td>NaN</td>\n",
              "      <td>NaN</td>\n",
              "      <td>NaN</td>\n",
              "      <td>NaN</td>\n",
              "    </tr>\n",
              "    <tr>\n",
              "      <th>2011-08</th>\n",
              "      <td>167.0</td>\n",
              "      <td>42.0</td>\n",
              "      <td>42.0</td>\n",
              "      <td>42.0</td>\n",
              "      <td>23.0</td>\n",
              "      <td>NaN</td>\n",
              "      <td>NaN</td>\n",
              "      <td>NaN</td>\n",
              "      <td>NaN</td>\n",
              "      <td>NaN</td>\n",
              "      <td>NaN</td>\n",
              "      <td>NaN</td>\n",
              "      <td>NaN</td>\n",
              "    </tr>\n",
              "    <tr>\n",
              "      <th>2011-09</th>\n",
              "      <td>298.0</td>\n",
              "      <td>89.0</td>\n",
              "      <td>97.0</td>\n",
              "      <td>36.0</td>\n",
              "      <td>NaN</td>\n",
              "      <td>NaN</td>\n",
              "      <td>NaN</td>\n",
              "      <td>NaN</td>\n",
              "      <td>NaN</td>\n",
              "      <td>NaN</td>\n",
              "      <td>NaN</td>\n",
              "      <td>NaN</td>\n",
              "      <td>NaN</td>\n",
              "    </tr>\n",
              "    <tr>\n",
              "      <th>2011-10</th>\n",
              "      <td>352.0</td>\n",
              "      <td>93.0</td>\n",
              "      <td>46.0</td>\n",
              "      <td>NaN</td>\n",
              "      <td>NaN</td>\n",
              "      <td>NaN</td>\n",
              "      <td>NaN</td>\n",
              "      <td>NaN</td>\n",
              "      <td>NaN</td>\n",
              "      <td>NaN</td>\n",
              "      <td>NaN</td>\n",
              "      <td>NaN</td>\n",
              "      <td>NaN</td>\n",
              "    </tr>\n",
              "    <tr>\n",
              "      <th>2011-11</th>\n",
              "      <td>321.0</td>\n",
              "      <td>43.0</td>\n",
              "      <td>NaN</td>\n",
              "      <td>NaN</td>\n",
              "      <td>NaN</td>\n",
              "      <td>NaN</td>\n",
              "      <td>NaN</td>\n",
              "      <td>NaN</td>\n",
              "      <td>NaN</td>\n",
              "      <td>NaN</td>\n",
              "      <td>NaN</td>\n",
              "      <td>NaN</td>\n",
              "      <td>NaN</td>\n",
              "    </tr>\n",
              "    <tr>\n",
              "      <th>2011-12</th>\n",
              "      <td>41.0</td>\n",
              "      <td>NaN</td>\n",
              "      <td>NaN</td>\n",
              "      <td>NaN</td>\n",
              "      <td>NaN</td>\n",
              "      <td>NaN</td>\n",
              "      <td>NaN</td>\n",
              "      <td>NaN</td>\n",
              "      <td>NaN</td>\n",
              "      <td>NaN</td>\n",
              "      <td>NaN</td>\n",
              "      <td>NaN</td>\n",
              "      <td>NaN</td>\n",
              "    </tr>\n",
              "  </tbody>\n",
              "</table>\n",
              "</div>"
            ],
            "text/plain": [
              "period_number     0      1      2      3      4      5      6      7      8   \\\n",
              "cohort                                                                         \n",
              "2010-12        948.0  362.0  317.0  367.0  341.0  376.0  360.0  336.0  336.0   \n",
              "2011-01        421.0  101.0  119.0  102.0  138.0  126.0  110.0  108.0  131.0   \n",
              "2011-02        380.0   94.0   73.0  106.0  102.0   94.0   97.0  107.0   98.0   \n",
              "2011-03        440.0   84.0  112.0   96.0  102.0   78.0  116.0  105.0  127.0   \n",
              "2011-04        299.0   68.0   66.0   63.0   62.0   71.0   69.0   78.0   25.0   \n",
              "2011-05        279.0   66.0   48.0   48.0   60.0   68.0   74.0   29.0    NaN   \n",
              "2011-06        235.0   49.0   44.0   64.0   58.0   79.0   24.0    NaN    NaN   \n",
              "2011-07        191.0   40.0   39.0   44.0   52.0   22.0    NaN    NaN    NaN   \n",
              "2011-08        167.0   42.0   42.0   42.0   23.0    NaN    NaN    NaN    NaN   \n",
              "2011-09        298.0   89.0   97.0   36.0    NaN    NaN    NaN    NaN    NaN   \n",
              "2011-10        352.0   93.0   46.0    NaN    NaN    NaN    NaN    NaN    NaN   \n",
              "2011-11        321.0   43.0    NaN    NaN    NaN    NaN    NaN    NaN    NaN   \n",
              "2011-12         41.0    NaN    NaN    NaN    NaN    NaN    NaN    NaN    NaN   \n",
              "\n",
              "period_number     9      10     11     12  \n",
              "cohort                                     \n",
              "2010-12        374.0  354.0  474.0  260.0  \n",
              "2011-01        146.0  155.0   63.0    NaN  \n",
              "2011-02        119.0   35.0    NaN    NaN  \n",
              "2011-03         39.0    NaN    NaN    NaN  \n",
              "2011-04          NaN    NaN    NaN    NaN  \n",
              "2011-05          NaN    NaN    NaN    NaN  \n",
              "2011-06          NaN    NaN    NaN    NaN  \n",
              "2011-07          NaN    NaN    NaN    NaN  \n",
              "2011-08          NaN    NaN    NaN    NaN  \n",
              "2011-09          NaN    NaN    NaN    NaN  \n",
              "2011-10          NaN    NaN    NaN    NaN  \n",
              "2011-11          NaN    NaN    NaN    NaN  \n",
              "2011-12          NaN    NaN    NaN    NaN  "
            ]
          },
          "execution_count": 20,
          "metadata": {},
          "output_type": "execute_result"
        }
      ],
      "source": [
        "cohort_pivot = data_cohort.pivot_table(index = 'cohort',\n",
        "                                     columns = 'period_number',\n",
        "                                     values = 'n_customers')\n",
        "cohort_pivot"
      ]
    },
    {
      "cell_type": "code",
      "execution_count": null,
      "id": "5025dd2c-1fd8-46d2-b105-43a93484dbd0",
      "metadata": {
        "id": "5025dd2c-1fd8-46d2-b105-43a93484dbd0",
        "outputId": "0413179d-1777-4fa8-c660-15922b04f8e9"
      },
      "outputs": [
        {
          "data": {
            "text/html": [
              "<div>\n",
              "<style scoped>\n",
              "    .dataframe tbody tr th:only-of-type {\n",
              "        vertical-align: middle;\n",
              "    }\n",
              "\n",
              "    .dataframe tbody tr th {\n",
              "        vertical-align: top;\n",
              "    }\n",
              "\n",
              "    .dataframe thead th {\n",
              "        text-align: right;\n",
              "    }\n",
              "</style>\n",
              "<table border=\"1\" class=\"dataframe\">\n",
              "  <thead>\n",
              "    <tr style=\"text-align: right;\">\n",
              "      <th>period_number</th>\n",
              "      <th>0</th>\n",
              "      <th>1</th>\n",
              "      <th>2</th>\n",
              "      <th>3</th>\n",
              "      <th>4</th>\n",
              "      <th>5</th>\n",
              "      <th>6</th>\n",
              "      <th>7</th>\n",
              "      <th>8</th>\n",
              "      <th>9</th>\n",
              "      <th>10</th>\n",
              "      <th>11</th>\n",
              "      <th>12</th>\n",
              "    </tr>\n",
              "    <tr>\n",
              "      <th>cohort</th>\n",
              "      <th></th>\n",
              "      <th></th>\n",
              "      <th></th>\n",
              "      <th></th>\n",
              "      <th></th>\n",
              "      <th></th>\n",
              "      <th></th>\n",
              "      <th></th>\n",
              "      <th></th>\n",
              "      <th></th>\n",
              "      <th></th>\n",
              "      <th></th>\n",
              "      <th></th>\n",
              "    </tr>\n",
              "  </thead>\n",
              "  <tbody>\n",
              "    <tr>\n",
              "      <th>2010-12</th>\n",
              "      <td>1.0</td>\n",
              "      <td>0.381857</td>\n",
              "      <td>0.334388</td>\n",
              "      <td>0.387131</td>\n",
              "      <td>0.359705</td>\n",
              "      <td>0.396624</td>\n",
              "      <td>0.379747</td>\n",
              "      <td>0.354430</td>\n",
              "      <td>0.354430</td>\n",
              "      <td>0.394515</td>\n",
              "      <td>0.373418</td>\n",
              "      <td>0.500000</td>\n",
              "      <td>0.274262</td>\n",
              "    </tr>\n",
              "    <tr>\n",
              "      <th>2011-01</th>\n",
              "      <td>1.0</td>\n",
              "      <td>0.239905</td>\n",
              "      <td>0.282660</td>\n",
              "      <td>0.242280</td>\n",
              "      <td>0.327791</td>\n",
              "      <td>0.299287</td>\n",
              "      <td>0.261283</td>\n",
              "      <td>0.256532</td>\n",
              "      <td>0.311164</td>\n",
              "      <td>0.346793</td>\n",
              "      <td>0.368171</td>\n",
              "      <td>0.149644</td>\n",
              "      <td>NaN</td>\n",
              "    </tr>\n",
              "    <tr>\n",
              "      <th>2011-02</th>\n",
              "      <td>1.0</td>\n",
              "      <td>0.247368</td>\n",
              "      <td>0.192105</td>\n",
              "      <td>0.278947</td>\n",
              "      <td>0.268421</td>\n",
              "      <td>0.247368</td>\n",
              "      <td>0.255263</td>\n",
              "      <td>0.281579</td>\n",
              "      <td>0.257895</td>\n",
              "      <td>0.313158</td>\n",
              "      <td>0.092105</td>\n",
              "      <td>NaN</td>\n",
              "      <td>NaN</td>\n",
              "    </tr>\n",
              "    <tr>\n",
              "      <th>2011-03</th>\n",
              "      <td>1.0</td>\n",
              "      <td>0.190909</td>\n",
              "      <td>0.254545</td>\n",
              "      <td>0.218182</td>\n",
              "      <td>0.231818</td>\n",
              "      <td>0.177273</td>\n",
              "      <td>0.263636</td>\n",
              "      <td>0.238636</td>\n",
              "      <td>0.288636</td>\n",
              "      <td>0.088636</td>\n",
              "      <td>NaN</td>\n",
              "      <td>NaN</td>\n",
              "      <td>NaN</td>\n",
              "    </tr>\n",
              "    <tr>\n",
              "      <th>2011-04</th>\n",
              "      <td>1.0</td>\n",
              "      <td>0.227425</td>\n",
              "      <td>0.220736</td>\n",
              "      <td>0.210702</td>\n",
              "      <td>0.207358</td>\n",
              "      <td>0.237458</td>\n",
              "      <td>0.230769</td>\n",
              "      <td>0.260870</td>\n",
              "      <td>0.083612</td>\n",
              "      <td>NaN</td>\n",
              "      <td>NaN</td>\n",
              "      <td>NaN</td>\n",
              "      <td>NaN</td>\n",
              "    </tr>\n",
              "    <tr>\n",
              "      <th>2011-05</th>\n",
              "      <td>1.0</td>\n",
              "      <td>0.236559</td>\n",
              "      <td>0.172043</td>\n",
              "      <td>0.172043</td>\n",
              "      <td>0.215054</td>\n",
              "      <td>0.243728</td>\n",
              "      <td>0.265233</td>\n",
              "      <td>0.103943</td>\n",
              "      <td>NaN</td>\n",
              "      <td>NaN</td>\n",
              "      <td>NaN</td>\n",
              "      <td>NaN</td>\n",
              "      <td>NaN</td>\n",
              "    </tr>\n",
              "    <tr>\n",
              "      <th>2011-06</th>\n",
              "      <td>1.0</td>\n",
              "      <td>0.208511</td>\n",
              "      <td>0.187234</td>\n",
              "      <td>0.272340</td>\n",
              "      <td>0.246809</td>\n",
              "      <td>0.336170</td>\n",
              "      <td>0.102128</td>\n",
              "      <td>NaN</td>\n",
              "      <td>NaN</td>\n",
              "      <td>NaN</td>\n",
              "      <td>NaN</td>\n",
              "      <td>NaN</td>\n",
              "      <td>NaN</td>\n",
              "    </tr>\n",
              "    <tr>\n",
              "      <th>2011-07</th>\n",
              "      <td>1.0</td>\n",
              "      <td>0.209424</td>\n",
              "      <td>0.204188</td>\n",
              "      <td>0.230366</td>\n",
              "      <td>0.272251</td>\n",
              "      <td>0.115183</td>\n",
              "      <td>NaN</td>\n",
              "      <td>NaN</td>\n",
              "      <td>NaN</td>\n",
              "      <td>NaN</td>\n",
              "      <td>NaN</td>\n",
              "      <td>NaN</td>\n",
              "      <td>NaN</td>\n",
              "    </tr>\n",
              "    <tr>\n",
              "      <th>2011-08</th>\n",
              "      <td>1.0</td>\n",
              "      <td>0.251497</td>\n",
              "      <td>0.251497</td>\n",
              "      <td>0.251497</td>\n",
              "      <td>0.137725</td>\n",
              "      <td>NaN</td>\n",
              "      <td>NaN</td>\n",
              "      <td>NaN</td>\n",
              "      <td>NaN</td>\n",
              "      <td>NaN</td>\n",
              "      <td>NaN</td>\n",
              "      <td>NaN</td>\n",
              "      <td>NaN</td>\n",
              "    </tr>\n",
              "    <tr>\n",
              "      <th>2011-09</th>\n",
              "      <td>1.0</td>\n",
              "      <td>0.298658</td>\n",
              "      <td>0.325503</td>\n",
              "      <td>0.120805</td>\n",
              "      <td>NaN</td>\n",
              "      <td>NaN</td>\n",
              "      <td>NaN</td>\n",
              "      <td>NaN</td>\n",
              "      <td>NaN</td>\n",
              "      <td>NaN</td>\n",
              "      <td>NaN</td>\n",
              "      <td>NaN</td>\n",
              "      <td>NaN</td>\n",
              "    </tr>\n",
              "    <tr>\n",
              "      <th>2011-10</th>\n",
              "      <td>1.0</td>\n",
              "      <td>0.264205</td>\n",
              "      <td>0.130682</td>\n",
              "      <td>NaN</td>\n",
              "      <td>NaN</td>\n",
              "      <td>NaN</td>\n",
              "      <td>NaN</td>\n",
              "      <td>NaN</td>\n",
              "      <td>NaN</td>\n",
              "      <td>NaN</td>\n",
              "      <td>NaN</td>\n",
              "      <td>NaN</td>\n",
              "      <td>NaN</td>\n",
              "    </tr>\n",
              "    <tr>\n",
              "      <th>2011-11</th>\n",
              "      <td>1.0</td>\n",
              "      <td>0.133956</td>\n",
              "      <td>NaN</td>\n",
              "      <td>NaN</td>\n",
              "      <td>NaN</td>\n",
              "      <td>NaN</td>\n",
              "      <td>NaN</td>\n",
              "      <td>NaN</td>\n",
              "      <td>NaN</td>\n",
              "      <td>NaN</td>\n",
              "      <td>NaN</td>\n",
              "      <td>NaN</td>\n",
              "      <td>NaN</td>\n",
              "    </tr>\n",
              "    <tr>\n",
              "      <th>2011-12</th>\n",
              "      <td>1.0</td>\n",
              "      <td>NaN</td>\n",
              "      <td>NaN</td>\n",
              "      <td>NaN</td>\n",
              "      <td>NaN</td>\n",
              "      <td>NaN</td>\n",
              "      <td>NaN</td>\n",
              "      <td>NaN</td>\n",
              "      <td>NaN</td>\n",
              "      <td>NaN</td>\n",
              "      <td>NaN</td>\n",
              "      <td>NaN</td>\n",
              "      <td>NaN</td>\n",
              "    </tr>\n",
              "  </tbody>\n",
              "</table>\n",
              "</div>"
            ],
            "text/plain": [
              "period_number   0         1         2         3         4         5   \\\n",
              "cohort                                                                 \n",
              "2010-12        1.0  0.381857  0.334388  0.387131  0.359705  0.396624   \n",
              "2011-01        1.0  0.239905  0.282660  0.242280  0.327791  0.299287   \n",
              "2011-02        1.0  0.247368  0.192105  0.278947  0.268421  0.247368   \n",
              "2011-03        1.0  0.190909  0.254545  0.218182  0.231818  0.177273   \n",
              "2011-04        1.0  0.227425  0.220736  0.210702  0.207358  0.237458   \n",
              "2011-05        1.0  0.236559  0.172043  0.172043  0.215054  0.243728   \n",
              "2011-06        1.0  0.208511  0.187234  0.272340  0.246809  0.336170   \n",
              "2011-07        1.0  0.209424  0.204188  0.230366  0.272251  0.115183   \n",
              "2011-08        1.0  0.251497  0.251497  0.251497  0.137725       NaN   \n",
              "2011-09        1.0  0.298658  0.325503  0.120805       NaN       NaN   \n",
              "2011-10        1.0  0.264205  0.130682       NaN       NaN       NaN   \n",
              "2011-11        1.0  0.133956       NaN       NaN       NaN       NaN   \n",
              "2011-12        1.0       NaN       NaN       NaN       NaN       NaN   \n",
              "\n",
              "period_number        6         7         8         9         10        11  \\\n",
              "cohort                                                                      \n",
              "2010-12        0.379747  0.354430  0.354430  0.394515  0.373418  0.500000   \n",
              "2011-01        0.261283  0.256532  0.311164  0.346793  0.368171  0.149644   \n",
              "2011-02        0.255263  0.281579  0.257895  0.313158  0.092105       NaN   \n",
              "2011-03        0.263636  0.238636  0.288636  0.088636       NaN       NaN   \n",
              "2011-04        0.230769  0.260870  0.083612       NaN       NaN       NaN   \n",
              "2011-05        0.265233  0.103943       NaN       NaN       NaN       NaN   \n",
              "2011-06        0.102128       NaN       NaN       NaN       NaN       NaN   \n",
              "2011-07             NaN       NaN       NaN       NaN       NaN       NaN   \n",
              "2011-08             NaN       NaN       NaN       NaN       NaN       NaN   \n",
              "2011-09             NaN       NaN       NaN       NaN       NaN       NaN   \n",
              "2011-10             NaN       NaN       NaN       NaN       NaN       NaN   \n",
              "2011-11             NaN       NaN       NaN       NaN       NaN       NaN   \n",
              "2011-12             NaN       NaN       NaN       NaN       NaN       NaN   \n",
              "\n",
              "period_number        12  \n",
              "cohort                   \n",
              "2010-12        0.274262  \n",
              "2011-01             NaN  \n",
              "2011-02             NaN  \n",
              "2011-03             NaN  \n",
              "2011-04             NaN  \n",
              "2011-05             NaN  \n",
              "2011-06             NaN  \n",
              "2011-07             NaN  \n",
              "2011-08             NaN  \n",
              "2011-09             NaN  \n",
              "2011-10             NaN  \n",
              "2011-11             NaN  \n",
              "2011-12             NaN  "
            ]
          },
          "execution_count": 21,
          "metadata": {},
          "output_type": "execute_result"
        }
      ],
      "source": [
        "cohort_size = cohort_pivot.iloc[:,0]\n",
        "retention_matrix = cohort_pivot.divide(cohort_size, axis = 0)\n",
        "retention_matrix"
      ]
    },
    {
      "cell_type": "markdown",
      "id": "e6765d46-5099-478b-a16e-21c74e886334",
      "metadata": {
        "id": "e6765d46-5099-478b-a16e-21c74e886334"
      },
      "source": [
        "__WEEK 2__"
      ]
    },
    {
      "cell_type": "markdown",
      "id": "35655795-89b1-4fcf-b3e3-3811aca90138",
      "metadata": {
        "id": "35655795-89b1-4fcf-b3e3-3811aca90138"
      },
      "source": [
        "__Build RFM model__"
      ]
    },
    {
      "cell_type": "code",
      "execution_count": null,
      "id": "116ec994-d824-4bb9-bf6b-968833577ac0",
      "metadata": {
        "id": "116ec994-d824-4bb9-bf6b-968833577ac0",
        "outputId": "7eb0b1ff-15aa-4e57-da30-49a63cd9546b"
      },
      "outputs": [
        {
          "data": {
            "text/plain": [
              "Timestamp('2011-12-09 12:50:00')"
            ]
          },
          "execution_count": 22,
          "metadata": {},
          "output_type": "execute_result"
        }
      ],
      "source": [
        "data['InvoiceDate'].max()"
      ]
    },
    {
      "cell_type": "markdown",
      "id": "ce0482eb-7c99-4f16-a324-65dc006c2c43",
      "metadata": {
        "id": "ce0482eb-7c99-4f16-a324-65dc006c2c43"
      },
      "source": [
        "__RFM Metrics__"
      ]
    },
    {
      "cell_type": "code",
      "execution_count": null,
      "id": "534a38bb-8959-491d-8f5b-ea839c2d259f",
      "metadata": {
        "id": "534a38bb-8959-491d-8f5b-ea839c2d259f",
        "outputId": "ed3f482e-836f-4a94-f86d-365c19fca979"
      },
      "outputs": [
        {
          "data": {
            "text/html": [
              "<div>\n",
              "<style scoped>\n",
              "    .dataframe tbody tr th:only-of-type {\n",
              "        vertical-align: middle;\n",
              "    }\n",
              "\n",
              "    .dataframe tbody tr th {\n",
              "        vertical-align: top;\n",
              "    }\n",
              "\n",
              "    .dataframe thead th {\n",
              "        text-align: right;\n",
              "    }\n",
              "</style>\n",
              "<table border=\"1\" class=\"dataframe\">\n",
              "  <thead>\n",
              "    <tr style=\"text-align: right;\">\n",
              "      <th></th>\n",
              "      <th>recency</th>\n",
              "      <th>frequency</th>\n",
              "      <th>monetary_value</th>\n",
              "    </tr>\n",
              "    <tr>\n",
              "      <th>CustomerID</th>\n",
              "      <th></th>\n",
              "      <th></th>\n",
              "      <th></th>\n",
              "    </tr>\n",
              "  </thead>\n",
              "  <tbody>\n",
              "    <tr>\n",
              "      <th>12346.0</th>\n",
              "      <td>325</td>\n",
              "      <td>2</td>\n",
              "      <td>2.08</td>\n",
              "    </tr>\n",
              "    <tr>\n",
              "      <th>12347.0</th>\n",
              "      <td>2</td>\n",
              "      <td>182</td>\n",
              "      <td>481.21</td>\n",
              "    </tr>\n",
              "    <tr>\n",
              "      <th>12348.0</th>\n",
              "      <td>75</td>\n",
              "      <td>31</td>\n",
              "      <td>178.71</td>\n",
              "    </tr>\n",
              "    <tr>\n",
              "      <th>12349.0</th>\n",
              "      <td>18</td>\n",
              "      <td>73</td>\n",
              "      <td>605.10</td>\n",
              "    </tr>\n",
              "    <tr>\n",
              "      <th>12350.0</th>\n",
              "      <td>310</td>\n",
              "      <td>17</td>\n",
              "      <td>65.30</td>\n",
              "    </tr>\n",
              "    <tr>\n",
              "      <th>...</th>\n",
              "      <td>...</td>\n",
              "      <td>...</td>\n",
              "      <td>...</td>\n",
              "    </tr>\n",
              "    <tr>\n",
              "      <th>18280.0</th>\n",
              "      <td>277</td>\n",
              "      <td>10</td>\n",
              "      <td>47.65</td>\n",
              "    </tr>\n",
              "    <tr>\n",
              "      <th>18281.0</th>\n",
              "      <td>180</td>\n",
              "      <td>7</td>\n",
              "      <td>39.36</td>\n",
              "    </tr>\n",
              "    <tr>\n",
              "      <th>18282.0</th>\n",
              "      <td>7</td>\n",
              "      <td>13</td>\n",
              "      <td>62.68</td>\n",
              "    </tr>\n",
              "    <tr>\n",
              "      <th>18283.0</th>\n",
              "      <td>3</td>\n",
              "      <td>721</td>\n",
              "      <td>1174.33</td>\n",
              "    </tr>\n",
              "    <tr>\n",
              "      <th>18287.0</th>\n",
              "      <td>42</td>\n",
              "      <td>70</td>\n",
              "      <td>104.55</td>\n",
              "    </tr>\n",
              "  </tbody>\n",
              "</table>\n",
              "<p>4372 rows × 3 columns</p>\n",
              "</div>"
            ],
            "text/plain": [
              "            recency  frequency  monetary_value\n",
              "CustomerID                                    \n",
              "12346.0         325          2            2.08\n",
              "12347.0           2        182          481.21\n",
              "12348.0          75         31          178.71\n",
              "12349.0          18         73          605.10\n",
              "12350.0         310         17           65.30\n",
              "...             ...        ...             ...\n",
              "18280.0         277         10           47.65\n",
              "18281.0         180          7           39.36\n",
              "18282.0           7         13           62.68\n",
              "18283.0           3        721         1174.33\n",
              "18287.0          42         70          104.55\n",
              "\n",
              "[4372 rows x 3 columns]"
            ]
          },
          "execution_count": 23,
          "metadata": {},
          "output_type": "execute_result"
        }
      ],
      "source": [
        "Latest_date=dt.datetime(2011,12,10)\n",
        "rfm_tab=data.groupby('CustomerID').agg({'InvoiceDate': lambda x: (Latest_date - x.max()).days, 'InvoiceNo': lambda x: len(x),'UnitPrice': lambda x: x.sum()})\n",
        "rfmtable=rfm_tab.rename(columns={'InvoiceDate': 'recency', \n",
        "                         'InvoiceNo': 'frequency', \n",
        "                         'UnitPrice': 'monetary_value'})\n",
        "rfmtable"
      ]
    },
    {
      "cell_type": "markdown",
      "id": "e2ec6ab5-fb85-457f-b61a-cba2c38df883",
      "metadata": {
        "id": "e2ec6ab5-fb85-457f-b61a-cba2c38df883"
      },
      "source": [
        "__RFM segments__"
      ]
    },
    {
      "cell_type": "markdown",
      "id": "3e39391b-df8c-4f29-8241-78d5d09de0ca",
      "metadata": {
        "id": "3e39391b-df8c-4f29-8241-78d5d09de0ca"
      },
      "source": [
        "__Quartile__"
      ]
    },
    {
      "cell_type": "code",
      "execution_count": null,
      "id": "10fd54b2-94aa-4ab4-969a-28ccb001cbc8",
      "metadata": {
        "id": "10fd54b2-94aa-4ab4-969a-28ccb001cbc8",
        "outputId": "5e73c633-65fd-4360-f044-9c96e06ee7be"
      },
      "outputs": [
        {
          "data": {
            "text/plain": [
              "{'recency': {0.25: 16.0, 0.5: 50.0, 0.75: 143.0},\n",
              " 'frequency': {0.25: 17.0, 0.5: 41.0, 0.75: 99.25},\n",
              " 'monetary_value': {0.25: 52.730000000000004, 0.5: 128.925, 0.75: 299.0975}}"
            ]
          },
          "execution_count": 24,
          "metadata": {},
          "output_type": "execute_result"
        }
      ],
      "source": [
        "quantiles = rfmtable.quantile(q=[0.25,0.5,0.75])\n",
        "quantiles.to_dict()"
      ]
    },
    {
      "cell_type": "code",
      "execution_count": null,
      "id": "0a677173-5c5b-40f6-bd73-895a5672a4c3",
      "metadata": {
        "id": "0a677173-5c5b-40f6-bd73-895a5672a4c3"
      },
      "outputs": [],
      "source": [
        "segmented_rfm = rfmtable"
      ]
    },
    {
      "cell_type": "code",
      "execution_count": null,
      "id": "08c54d2a-4eb4-487a-bad2-27cc17a57650",
      "metadata": {
        "id": "08c54d2a-4eb4-487a-bad2-27cc17a57650"
      },
      "outputs": [],
      "source": [
        "def recencyscore(x,p,d):\n",
        "    if x <= d[p][0.25]:\n",
        "        return 1\n",
        "    elif x <= d[p][0.50]:\n",
        "        return 2\n",
        "    elif x <= d[p][0.75]:\n",
        "        return 3\n",
        "    else:\n",
        "        return 4\n",
        "    \n",
        "def fmscore(x,p,d):\n",
        "    if x <= d[p][0.25]:\n",
        "        return 4\n",
        "    elif x <= d[p][0.50]:\n",
        "        return 3\n",
        "    elif x <= d[p][0.75]:\n",
        "        return 2\n",
        "    else:\n",
        "        return 1"
      ]
    },
    {
      "cell_type": "code",
      "execution_count": null,
      "id": "04859ec1-6f3e-4bc3-88c5-8265babd9f6a",
      "metadata": {
        "id": "04859ec1-6f3e-4bc3-88c5-8265babd9f6a",
        "outputId": "b81ade35-9290-44f0-b175-2fd060e12eb2"
      },
      "outputs": [
        {
          "data": {
            "text/html": [
              "<div>\n",
              "<style scoped>\n",
              "    .dataframe tbody tr th:only-of-type {\n",
              "        vertical-align: middle;\n",
              "    }\n",
              "\n",
              "    .dataframe tbody tr th {\n",
              "        vertical-align: top;\n",
              "    }\n",
              "\n",
              "    .dataframe thead th {\n",
              "        text-align: right;\n",
              "    }\n",
              "</style>\n",
              "<table border=\"1\" class=\"dataframe\">\n",
              "  <thead>\n",
              "    <tr style=\"text-align: right;\">\n",
              "      <th></th>\n",
              "      <th>recency</th>\n",
              "      <th>frequency</th>\n",
              "      <th>monetary_value</th>\n",
              "      <th>r_quartile</th>\n",
              "      <th>f_quartile</th>\n",
              "      <th>m_quartile</th>\n",
              "    </tr>\n",
              "    <tr>\n",
              "      <th>CustomerID</th>\n",
              "      <th></th>\n",
              "      <th></th>\n",
              "      <th></th>\n",
              "      <th></th>\n",
              "      <th></th>\n",
              "      <th></th>\n",
              "    </tr>\n",
              "  </thead>\n",
              "  <tbody>\n",
              "    <tr>\n",
              "      <th>12346.0</th>\n",
              "      <td>325</td>\n",
              "      <td>2</td>\n",
              "      <td>2.08</td>\n",
              "      <td>4</td>\n",
              "      <td>4</td>\n",
              "      <td>4</td>\n",
              "    </tr>\n",
              "    <tr>\n",
              "      <th>12347.0</th>\n",
              "      <td>2</td>\n",
              "      <td>182</td>\n",
              "      <td>481.21</td>\n",
              "      <td>1</td>\n",
              "      <td>1</td>\n",
              "      <td>1</td>\n",
              "    </tr>\n",
              "    <tr>\n",
              "      <th>12348.0</th>\n",
              "      <td>75</td>\n",
              "      <td>31</td>\n",
              "      <td>178.71</td>\n",
              "      <td>3</td>\n",
              "      <td>3</td>\n",
              "      <td>2</td>\n",
              "    </tr>\n",
              "    <tr>\n",
              "      <th>12349.0</th>\n",
              "      <td>18</td>\n",
              "      <td>73</td>\n",
              "      <td>605.10</td>\n",
              "      <td>2</td>\n",
              "      <td>2</td>\n",
              "      <td>1</td>\n",
              "    </tr>\n",
              "    <tr>\n",
              "      <th>12350.0</th>\n",
              "      <td>310</td>\n",
              "      <td>17</td>\n",
              "      <td>65.30</td>\n",
              "      <td>4</td>\n",
              "      <td>4</td>\n",
              "      <td>3</td>\n",
              "    </tr>\n",
              "  </tbody>\n",
              "</table>\n",
              "</div>"
            ],
            "text/plain": [
              "            recency  frequency  monetary_value  r_quartile  f_quartile  \\\n",
              "CustomerID                                                               \n",
              "12346.0         325          2            2.08           4           4   \n",
              "12347.0           2        182          481.21           1           1   \n",
              "12348.0          75         31          178.71           3           3   \n",
              "12349.0          18         73          605.10           2           2   \n",
              "12350.0         310         17           65.30           4           4   \n",
              "\n",
              "            m_quartile  \n",
              "CustomerID              \n",
              "12346.0              4  \n",
              "12347.0              1  \n",
              "12348.0              2  \n",
              "12349.0              1  \n",
              "12350.0              3  "
            ]
          },
          "execution_count": 27,
          "metadata": {},
          "output_type": "execute_result"
        }
      ],
      "source": [
        "segmented_rfm['r_quartile'] = segmented_rfm['recency'].apply(recencyscore, args=('recency',quantiles,))\n",
        "segmented_rfm['f_quartile'] = segmented_rfm['frequency'].apply(fmscore, args=('frequency',quantiles,))\n",
        "segmented_rfm['m_quartile'] = segmented_rfm['monetary_value'].apply(fmscore, args=('monetary_value',quantiles,))\n",
        "\n",
        "\n",
        "segmented_rfm.head()"
      ]
    },
    {
      "cell_type": "code",
      "execution_count": null,
      "id": "50a638d8-a200-4f13-898e-0df217e1ae06",
      "metadata": {
        "id": "50a638d8-a200-4f13-898e-0df217e1ae06",
        "outputId": "032d801f-02af-4c24-f16b-6ea7eb34cd42"
      },
      "outputs": [
        {
          "data": {
            "text/html": [
              "<div>\n",
              "<style scoped>\n",
              "    .dataframe tbody tr th:only-of-type {\n",
              "        vertical-align: middle;\n",
              "    }\n",
              "\n",
              "    .dataframe tbody tr th {\n",
              "        vertical-align: top;\n",
              "    }\n",
              "\n",
              "    .dataframe thead th {\n",
              "        text-align: right;\n",
              "    }\n",
              "</style>\n",
              "<table border=\"1\" class=\"dataframe\">\n",
              "  <thead>\n",
              "    <tr style=\"text-align: right;\">\n",
              "      <th></th>\n",
              "      <th>recency</th>\n",
              "      <th>frequency</th>\n",
              "      <th>monetary_value</th>\n",
              "      <th>r_quartile</th>\n",
              "      <th>f_quartile</th>\n",
              "      <th>m_quartile</th>\n",
              "      <th>RFMScore</th>\n",
              "    </tr>\n",
              "    <tr>\n",
              "      <th>CustomerID</th>\n",
              "      <th></th>\n",
              "      <th></th>\n",
              "      <th></th>\n",
              "      <th></th>\n",
              "      <th></th>\n",
              "      <th></th>\n",
              "      <th></th>\n",
              "    </tr>\n",
              "  </thead>\n",
              "  <tbody>\n",
              "    <tr>\n",
              "      <th>12346.0</th>\n",
              "      <td>325</td>\n",
              "      <td>2</td>\n",
              "      <td>2.08</td>\n",
              "      <td>4</td>\n",
              "      <td>4</td>\n",
              "      <td>4</td>\n",
              "      <td>444</td>\n",
              "    </tr>\n",
              "    <tr>\n",
              "      <th>12347.0</th>\n",
              "      <td>2</td>\n",
              "      <td>182</td>\n",
              "      <td>481.21</td>\n",
              "      <td>1</td>\n",
              "      <td>1</td>\n",
              "      <td>1</td>\n",
              "      <td>111</td>\n",
              "    </tr>\n",
              "    <tr>\n",
              "      <th>12348.0</th>\n",
              "      <td>75</td>\n",
              "      <td>31</td>\n",
              "      <td>178.71</td>\n",
              "      <td>3</td>\n",
              "      <td>3</td>\n",
              "      <td>2</td>\n",
              "      <td>332</td>\n",
              "    </tr>\n",
              "    <tr>\n",
              "      <th>12349.0</th>\n",
              "      <td>18</td>\n",
              "      <td>73</td>\n",
              "      <td>605.10</td>\n",
              "      <td>2</td>\n",
              "      <td>2</td>\n",
              "      <td>1</td>\n",
              "      <td>221</td>\n",
              "    </tr>\n",
              "    <tr>\n",
              "      <th>12350.0</th>\n",
              "      <td>310</td>\n",
              "      <td>17</td>\n",
              "      <td>65.30</td>\n",
              "      <td>4</td>\n",
              "      <td>4</td>\n",
              "      <td>3</td>\n",
              "      <td>443</td>\n",
              "    </tr>\n",
              "  </tbody>\n",
              "</table>\n",
              "</div>"
            ],
            "text/plain": [
              "            recency  frequency  monetary_value  r_quartile  f_quartile  \\\n",
              "CustomerID                                                               \n",
              "12346.0         325          2            2.08           4           4   \n",
              "12347.0           2        182          481.21           1           1   \n",
              "12348.0          75         31          178.71           3           3   \n",
              "12349.0          18         73          605.10           2           2   \n",
              "12350.0         310         17           65.30           4           4   \n",
              "\n",
              "            m_quartile RFMScore  \n",
              "CustomerID                       \n",
              "12346.0              4      444  \n",
              "12347.0              1      111  \n",
              "12348.0              2      332  \n",
              "12349.0              1      221  \n",
              "12350.0              3      443  "
            ]
          },
          "execution_count": 29,
          "metadata": {},
          "output_type": "execute_result"
        }
      ],
      "source": [
        "segmented_rfm.to_csv('SegmentedRFM.csv')\n",
        "segmented_rfm['RFMScore'] = segmented_rfm.r_quartile.map(str)+segmented_rfm.f_quartile.map(str)+segmented_rfm.m_quartile.map(str)\n",
        "\n",
        "segmented_rfm.head()"
      ]
    },
    {
      "cell_type": "markdown",
      "id": "5c70a358-3cfb-4a3f-b01f-6d379d0e257d",
      "metadata": {
        "id": "5c70a358-3cfb-4a3f-b01f-6d379d0e257d"
      },
      "source": [
        "__Customer Segementation according to RFM__"
      ]
    },
    {
      "cell_type": "code",
      "execution_count": null,
      "id": "790cd7ed-45f6-4755-8fa4-9bf82bcd1d7f",
      "metadata": {
        "id": "790cd7ed-45f6-4755-8fa4-9bf82bcd1d7f",
        "outputId": "9ae9931f-1dda-4838-ff86-db8706e6de55"
      },
      "outputs": [
        {
          "data": {
            "text/html": [
              "<div>\n",
              "<style scoped>\n",
              "    .dataframe tbody tr th:only-of-type {\n",
              "        vertical-align: middle;\n",
              "    }\n",
              "\n",
              "    .dataframe tbody tr th {\n",
              "        vertical-align: top;\n",
              "    }\n",
              "\n",
              "    .dataframe thead th {\n",
              "        text-align: right;\n",
              "    }\n",
              "</style>\n",
              "<table border=\"1\" class=\"dataframe\">\n",
              "  <thead>\n",
              "    <tr style=\"text-align: right;\">\n",
              "      <th></th>\n",
              "      <th>Customer Segement</th>\n",
              "      <th>RFM</th>\n",
              "      <th>Desrciption</th>\n",
              "    </tr>\n",
              "  </thead>\n",
              "  <tbody>\n",
              "    <tr>\n",
              "      <th>0</th>\n",
              "      <td>Best Customers</td>\n",
              "      <td>111</td>\n",
              "      <td>Bought Most Recently and More Often</td>\n",
              "    </tr>\n",
              "    <tr>\n",
              "      <th>1</th>\n",
              "      <td>Loyal Customers</td>\n",
              "      <td>X1X</td>\n",
              "      <td>Buy Most Frequently</td>\n",
              "    </tr>\n",
              "    <tr>\n",
              "      <th>2</th>\n",
              "      <td>Big Spender</td>\n",
              "      <td>XX1</td>\n",
              "      <td>Spend The Most</td>\n",
              "    </tr>\n",
              "    <tr>\n",
              "      <th>3</th>\n",
              "      <td>Almost Lost</td>\n",
              "      <td>311</td>\n",
              "      <td>Did not purchased for some time but purchased frequently and most</td>\n",
              "    </tr>\n",
              "    <tr>\n",
              "      <th>4</th>\n",
              "      <td>Lost Customers</td>\n",
              "      <td>411</td>\n",
              "      <td>Did not purchased for some time but purchased frequently and most</td>\n",
              "    </tr>\n",
              "    <tr>\n",
              "      <th>5</th>\n",
              "      <td>Lost Cheap Customers</td>\n",
              "      <td>444</td>\n",
              "      <td>Last purchased long ago,purchased few and spent little</td>\n",
              "    </tr>\n",
              "  </tbody>\n",
              "</table>\n",
              "</div>"
            ],
            "text/plain": [
              "      Customer Segement  RFM  \\\n",
              "0        Best Customers  111   \n",
              "1       Loyal Customers  X1X   \n",
              "2           Big Spender  XX1   \n",
              "3           Almost Lost  311   \n",
              "4        Lost Customers  411   \n",
              "5  Lost Cheap Customers  444   \n",
              "\n",
              "                                                         Desrciption  \n",
              "0                                Bought Most Recently and More Often  \n",
              "1                                                Buy Most Frequently  \n",
              "2                                                     Spend The Most  \n",
              "3  Did not purchased for some time but purchased frequently and most  \n",
              "4  Did not purchased for some time but purchased frequently and most  \n",
              "5             Last purchased long ago,purchased few and spent little  "
            ]
          },
          "execution_count": 30,
          "metadata": {},
          "output_type": "execute_result"
        }
      ],
      "source": [
        "pd.set_option(\"display.max_colwidth\", 10000)\n",
        "data = {'Customer Segement':['Best Customers', 'Loyal Customers', 'Big Spender', 'Almost Lost','Lost Customers','Lost Cheap Customers'], 'RFM':['111', 'X1X', 'XX1', '311','411','444'],'Desrciption':['Bought Most Recently and More Often', 'Buy Most Frequently', 'Spend The Most', 'Did not purchased for some time but purchased frequently and most','Did not purchased for some time but purchased frequently and most','Last purchased long ago,purchased few and spent little']}\n",
        "pd.DataFrame(data)"
      ]
    },
    {
      "cell_type": "markdown",
      "id": "35cf01e7-2085-4c58-9b65-e2f3b54c1fd5",
      "metadata": {
        "id": "35cf01e7-2085-4c58-9b65-e2f3b54c1fd5"
      },
      "source": [
        "__WEEK 3__"
      ]
    },
    {
      "cell_type": "markdown",
      "id": "466eb71c-07b5-4346-bd51-fd8d8235ffd5",
      "metadata": {
        "id": "466eb71c-07b5-4346-bd51-fd8d8235ffd5"
      },
      "source": [
        "__K-Mean__"
      ]
    },
    {
      "cell_type": "code",
      "execution_count": null,
      "id": "174def62-85f1-48c1-a85a-70c0a5449e00",
      "metadata": {
        "id": "174def62-85f1-48c1-a85a-70c0a5449e00",
        "outputId": "77b0ac1a-677a-459b-b678-130e03cde3d9"
      },
      "outputs": [
        {
          "data": {
            "text/html": [
              "<div>\n",
              "<style scoped>\n",
              "    .dataframe tbody tr th:only-of-type {\n",
              "        vertical-align: middle;\n",
              "    }\n",
              "\n",
              "    .dataframe tbody tr th {\n",
              "        vertical-align: top;\n",
              "    }\n",
              "\n",
              "    .dataframe thead th {\n",
              "        text-align: right;\n",
              "    }\n",
              "</style>\n",
              "<table border=\"1\" class=\"dataframe\">\n",
              "  <thead>\n",
              "    <tr style=\"text-align: right;\">\n",
              "      <th></th>\n",
              "      <th>0</th>\n",
              "      <th>1</th>\n",
              "    </tr>\n",
              "  </thead>\n",
              "  <tbody>\n",
              "    <tr>\n",
              "      <th>0</th>\n",
              "      <td>2.0</td>\n",
              "      <td>2.08</td>\n",
              "    </tr>\n",
              "    <tr>\n",
              "      <th>1</th>\n",
              "      <td>182.0</td>\n",
              "      <td>481.21</td>\n",
              "    </tr>\n",
              "    <tr>\n",
              "      <th>2</th>\n",
              "      <td>31.0</td>\n",
              "      <td>178.71</td>\n",
              "    </tr>\n",
              "    <tr>\n",
              "      <th>3</th>\n",
              "      <td>73.0</td>\n",
              "      <td>605.10</td>\n",
              "    </tr>\n",
              "    <tr>\n",
              "      <th>4</th>\n",
              "      <td>17.0</td>\n",
              "      <td>65.30</td>\n",
              "    </tr>\n",
              "    <tr>\n",
              "      <th>...</th>\n",
              "      <td>...</td>\n",
              "      <td>...</td>\n",
              "    </tr>\n",
              "    <tr>\n",
              "      <th>4367</th>\n",
              "      <td>10.0</td>\n",
              "      <td>47.65</td>\n",
              "    </tr>\n",
              "    <tr>\n",
              "      <th>4368</th>\n",
              "      <td>7.0</td>\n",
              "      <td>39.36</td>\n",
              "    </tr>\n",
              "    <tr>\n",
              "      <th>4369</th>\n",
              "      <td>13.0</td>\n",
              "      <td>62.68</td>\n",
              "    </tr>\n",
              "    <tr>\n",
              "      <th>4370</th>\n",
              "      <td>721.0</td>\n",
              "      <td>1174.33</td>\n",
              "    </tr>\n",
              "    <tr>\n",
              "      <th>4371</th>\n",
              "      <td>70.0</td>\n",
              "      <td>104.55</td>\n",
              "    </tr>\n",
              "  </tbody>\n",
              "</table>\n",
              "<p>4372 rows × 2 columns</p>\n",
              "</div>"
            ],
            "text/plain": [
              "          0        1\n",
              "0       2.0     2.08\n",
              "1     182.0   481.21\n",
              "2      31.0   178.71\n",
              "3      73.0   605.10\n",
              "4      17.0    65.30\n",
              "...     ...      ...\n",
              "4367   10.0    47.65\n",
              "4368    7.0    39.36\n",
              "4369   13.0    62.68\n",
              "4370  721.0  1174.33\n",
              "4371   70.0   104.55\n",
              "\n",
              "[4372 rows x 2 columns]"
            ]
          },
          "execution_count": 31,
          "metadata": {},
          "output_type": "execute_result"
        }
      ],
      "source": [
        "cluster = segmented_rfm\n",
        "cluster = cluster.reset_index(level=0).iloc[:,[2,3]].values\n",
        "\n",
        "pd.DataFrame(cluster)"
      ]
    },
    {
      "cell_type": "code",
      "execution_count": null,
      "id": "8ffea2ce-419f-42ee-a855-fefe782091d8",
      "metadata": {
        "id": "8ffea2ce-419f-42ee-a855-fefe782091d8"
      },
      "outputs": [],
      "source": [
        "sc= StandardScaler()\n",
        "cluster = sc.fit_transform(cluster)"
      ]
    },
    {
      "cell_type": "code",
      "execution_count": null,
      "id": "5c654fb8-05cd-4d35-a7fc-d0efc39083cf",
      "metadata": {
        "id": "5c654fb8-05cd-4d35-a7fc-d0efc39083cf",
        "outputId": "87a74267-68a8-4758-e5a1-44dbf7e77d04"
      },
      "outputs": [
        {
          "name": "stderr",
          "output_type": "stream",
          "text": [
            "C:\\Users\\janna\\anaconda3\\lib\\site-packages\\seaborn\\distributions.py:2557: FutureWarning: `distplot` is a deprecated function and will be removed in a future version. Please adapt your code to use either `displot` (a figure-level function with similar flexibility) or `histplot` (an axes-level function for histograms).\n",
            "  warnings.warn(msg, FutureWarning)\n"
          ]
        },
        {
          "data": {
            "text/plain": [
              "<AxesSubplot:ylabel='Density'>"
            ]
          },
          "execution_count": 37,
          "metadata": {},
          "output_type": "execute_result"
        },
        {
          "data": {
            "image/png": "[encoded data removed]",
            "text/plain": [
              "<Figure size 432x288 with 1 Axes>"
            ]
          },
          "metadata": {
            "needs_background": "light"
          },
          "output_type": "display_data"
        }
      ],
      "source": [
        "sns.distplot(cluster[0])"
      ]
    },
    {
      "cell_type": "code",
      "execution_count": null,
      "id": "de95ce88-9beb-4e6c-bed0-e94d437ec36a",
      "metadata": {
        "id": "de95ce88-9beb-4e6c-bed0-e94d437ec36a",
        "outputId": "44618527-bb1e-4ee1-b441-2fcaadc0c676"
      },
      "outputs": [
        {
          "name": "stderr",
          "output_type": "stream",
          "text": [
            "C:\\Users\\janna\\anaconda3\\lib\\site-packages\\seaborn\\distributions.py:2557: FutureWarning: `distplot` is a deprecated function and will be removed in a future version. Please adapt your code to use either `displot` (a figure-level function with similar flexibility) or `histplot` (an axes-level function for histograms).\n",
            "  warnings.warn(msg, FutureWarning)\n"
          ]
        },
        {
          "data": {
            "text/plain": [
              "<AxesSubplot:ylabel='Density'>"
            ]
          },
          "execution_count": 38,
          "metadata": {},
          "output_type": "execute_result"
        },
        {
          "data": {
            "image/png": "[encoded data removed]",
            "text/plain": [
              "<Figure size 432x288 with 1 Axes>"
            ]
          },
          "metadata": {
            "needs_background": "light"
          },
          "output_type": "display_data"
        }
      ],
      "source": [
        "sns.distplot(cluster[1])"
      ]
    },
    {
      "cell_type": "markdown",
      "source": [
        "### Elbow methods\n",
        "1. Compute clustering algorithm (e.g., k-means clustering) for different values of k. For instance, by varying k from 1 to 10 clusters.\n",
        "\n",
        "2. For each k, calculate the total within-cluster sum of square (wss).\n",
        "Plot the curve of wss according to the number of clusters k.\n",
        "\n",
        "3. The location of a bend (knee) in the plot is generally considered as an indicator of the appropriate number of clusters.\n",
        "\n",
        "Check :https://www.datanovia.com/en/lessons/determining-the-optimal-number-of-clusters-3-must-know-methods/#elbow-method "
      ],
      "metadata": {
        "id": "omf9o_X3KEan"
      },
      "id": "omf9o_X3KEan"
    },
    {
      "cell_type": "code",
      "execution_count": null,
      "id": "ffb8c67a-5904-4fa7-94f9-f0bd90ab6d54",
      "metadata": {
        "id": "ffb8c67a-5904-4fa7-94f9-f0bd90ab6d54",
        "outputId": "0dde2471-6d12-4912-92b5-c692831639b6"
      },
      "outputs": [
        {
          "data": {
            "image/png": "[encoded data removed]",
            "text/plain": [
              "<Figure size 432x288 with 1 Axes>"
            ]
          },
          "metadata": {
            "needs_background": "light"
          },
          "output_type": "display_data"
        }
      ],
      "source": [
        "from sklearn.cluster import KMeans\n",
        "wcss = []\n",
        "for i in range(1, 11):\n",
        "    kmeans = KMeans(n_clusters = i, init = 'k-means++')\n",
        "    kmeans.fit(cluster)\n",
        "    wcss.append(kmeans.inertia_)\n",
        "plt.plot(range(1, 11), wcss)\n",
        "plt.title('The Elbow Method')\n",
        "plt.xlabel('Number of clusters')\n",
        "plt.ylabel('WCSS')\n",
        "plt.show()"
      ]
    },
    {
      "cell_type": "markdown",
      "source": [
        "**From the plot,Optimal Number of cluster K is 4.**"
      ],
      "metadata": {
        "id": "Whb0ZWdMK6zS"
      },
      "id": "Whb0ZWdMK6zS"
    },
    {
      "cell_type": "markdown",
      "source": [
        "**4 types of customer clustered and plotted**\n",
        "1. Lost Customer in Red\n",
        "2. Average Customer in Green\n",
        "3. Bought frequently but spend less Customer in Cyan\n",
        "4. Loyal Customer in Blue\n"
      ],
      "metadata": {
        "id": "lleJY2JjLT_f"
      },
      "id": "lleJY2JjLT_f"
    },
    {
      "cell_type": "code",
      "execution_count": null,
      "id": "54be0f56-404f-4858-8ea1-7f6f0684cf61",
      "metadata": {
        "id": "54be0f56-404f-4858-8ea1-7f6f0684cf61",
        "outputId": "6c4e9a70-a29e-4521-9680-8ee989f94464"
      },
      "outputs": [
        {
          "data": {
            "image/png": "[encoded data removed]",
            "text/plain": [
              "<Figure size 432x288 with 1 Axes>"
            ]
          },
          "metadata": {
            "needs_background": "light"
          },
          "output_type": "display_data"
        }
      ],
      "source": [
        "kmeans = KMeans(n_clusters = 4, init = 'k-means++')\n",
        "y_kmeans = kmeans.fit_predict(cluster)\n",
        "plt.scatter(cluster[y_kmeans == 0, 0], cluster[y_kmeans == 0, 1], s = 5, c = 'red', label = 'Lost Customer')\n",
        "plt.scatter(cluster[y_kmeans == 1, 0], cluster[y_kmeans == 1, 1], s = 5, c = 'blue', label = 'Loyal customer')\n",
        "plt.scatter(cluster[y_kmeans == 2, 0], cluster[y_kmeans == 2, 1], s = 5, c = 'green', label = 'Average Customers')\n",
        "plt.scatter(cluster[y_kmeans == 3, 0], cluster[y_kmeans == 3, 1], s = 5, c = 'cyan', label = 'Bought frequently but Spend less')\n",
        "plt.scatter(kmeans.cluster_centers_[:, 0], kmeans.cluster_centers_[:, 1], s = 20, c = 'yellow', label = 'Centroids')\n",
        "plt.title('Clusters of customers')\n",
        "plt.xlabel('Total Spending')\n",
        "plt.ylabel('Buying Frequency')\n",
        "plt.legend()\n",
        "plt.show()"
      ]
    }
  ],
  "metadata": {
    "kernelspec": {
      "display_name": "Python 3 (ipykernel)",
      "language": "python",
      "name": "python3"
    },
    "language_info": {
      "codemirror_mode": {
        "name": "ipython",
        "version": 3
      },
      "file_extension": ".py",
      "mimetype": "text/x-python",
      "name": "python",
      "nbconvert_exporter": "python",
      "pygments_lexer": "ipython3",
      "version": "3.9.7"
    },
    "colab": {
      "name": "Retail.ipynb",
      "provenance": [],
      "collapsed_sections": [],
      "include_colab_link": true
    }
  },
  "nbformat": 4,
  "nbformat_minor": 5
}